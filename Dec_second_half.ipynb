{
 "cells": [
  {
   "attachments": {},
   "cell_type": "markdown",
   "metadata": {},
   "source": [
    "## Dynamic Programming"
   ]
  },
  {
   "cell_type": "code",
   "execution_count": null,
   "metadata": {},
   "outputs": [],
   "source": [
    "# Leetcode 674 Longest Continuous Increasing Subsequence\n",
    "\n",
    "class Solution:\n",
    "    def findLengthOfLCIS(self, nums: List[int]) -> int:\n",
    "        dp = [1]*len(nums)\n",
    "        for i in range(1, len(nums)):\n",
    "            if nums[i] > nums[i-1]:\n",
    "                dp[i] = dp[i-1] + 1\n",
    "        return max(dp)"
   ]
  },
  {
   "cell_type": "code",
   "execution_count": null,
   "metadata": {},
   "outputs": [],
   "source": [
    "# Leetcode 62 Unique Paths II\n",
    "\n",
    "class Solution:\n",
    "    def uniquePaths(self, m: int, n: int) -> int:\n",
    "        if m != 1 and n != 1:\n",
    "            under = m + n -2\n",
    "            upper = min(m,n)-1\n",
    "            return int(math.factorial(under)/(math.factorial(upper)*math.factorial(under-upper)))\n",
    "        else:\n",
    "            return 1\n",
    "\n",
    "# dp store: how many ways to reach dp[i][j]\n",
    "# O(m*n) space \n",
    "class Solution:\n",
    "    def uniquePaths(self, m: int, n: int) -> int:\n",
    "        if m == 1 or n == 1:\n",
    "            return 1\n",
    "        dp = [[1]*n]*m\n",
    "        for i in range(1, m):\n",
    "            for j in range(1, n):\n",
    "                dp[i][j] = dp[i-1][j] + dp[i][j-1]\n",
    "        return dp[-1][-1]\n",
    "        \n",
    "# O(n) space \n",
    "def uniquePaths(self, m, n):\n",
    "    if not m or not n:\n",
    "        return 0\n",
    "    cur = [1] * n\n",
    "    for i in xrange(1, m):\n",
    "        for j in xrange(1, n):\n",
    "            cur[j] += cur[j-1]\n",
    "    return cur[-1]"
   ]
  }
 ],
 "metadata": {
  "kernelspec": {
   "display_name": "base",
   "language": "python",
   "name": "python3"
  },
  "language_info": {
   "name": "python",
   "version": "3.9.12 (main, Apr  5 2022, 01:53:17) \n[Clang 12.0.0 ]"
  },
  "orig_nbformat": 4,
  "vscode": {
   "interpreter": {
    "hash": "40d3a090f54c6569ab1632332b64b2c03c39dcf918b08424e98f38b5ae0af88f"
   }
  }
 },
 "nbformat": 4,
 "nbformat_minor": 2
}
