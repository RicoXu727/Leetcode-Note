{
 "cells": [
  {
   "attachments": {},
   "cell_type": "markdown",
   "metadata": {},
   "source": [
    "## Dynamic Programming"
   ]
  },
  {
   "cell_type": "code",
   "execution_count": null,
   "metadata": {},
   "outputs": [],
   "source": [
    "# Leetcode 674 Longest Continuous Increasing Subsequence\n",
    "\n",
    "class Solution:\n",
    "    def findLengthOfLCIS(self, nums: List[int]) -> int:\n",
    "        dp = [1]*len(nums)\n",
    "        for i in range(1, len(nums)):\n",
    "            if nums[i] > nums[i-1]:\n",
    "                dp[i] = dp[i-1] + 1\n",
    "        return max(dp)"
   ]
  },
  {
   "cell_type": "code",
   "execution_count": null,
   "metadata": {},
   "outputs": [],
   "source": [
    "# Leetcode 62 Unique Paths II\n",
    "\n",
    "class Solution:\n",
    "    def uniquePaths(self, m: int, n: int) -> int:\n",
    "        if m != 1 and n != 1:\n",
    "            under = m + n -2\n",
    "            upper = min(m,n)-1\n",
    "            return int(math.factorial(under)/(math.factorial(upper)*math.factorial(under-upper)))\n",
    "        else:\n",
    "            return 1\n",
    "\n",
    "# dp store: how many ways to reach dp[i][j]\n",
    "# O(m*n) space \n",
    "class Solution:\n",
    "    def uniquePaths(self, m: int, n: int) -> int:\n",
    "        if m == 1 or n == 1:\n",
    "            return 1\n",
    "        dp = [[1]*n]*m\n",
    "        for i in range(1, m):\n",
    "            for j in range(1, n):\n",
    "                dp[i][j] = dp[i-1][j] + dp[i][j-1]\n",
    "        return dp[-1][-1]\n",
    "        \n",
    "# O(n) space \n",
    "def uniquePaths(self, m, n):\n",
    "    if not m or not n:\n",
    "        return 0\n",
    "    cur = [1] * n\n",
    "    for i in xrange(1, m):\n",
    "        for j in xrange(1, n):\n",
    "            cur[j] += cur[j-1]\n",
    "    return cur[-1]"
   ]
  },
  {
   "cell_type": "code",
   "execution_count": null,
   "metadata": {},
   "outputs": [],
   "source": [
    "# Leetcode 70 Climbing Stairs\n",
    "\n",
    "class Solution:\n",
    "    def climbStairs(self, n: int) -> int:\n",
    "        dp = [0]*(n+1)\n",
    "        dp[0] = 1\n",
    "        dp[1] = 1\n",
    "        for i in range(2, n+1):\n",
    "            dp[i] = dp[i-1]+dp[i-2]\n",
    "        return dp[-1]"
   ]
  },
  {
   "cell_type": "code",
   "execution_count": null,
   "metadata": {},
   "outputs": [],
   "source": [
    "# Leetcode 64 Minimum Path Sum\n",
    "\n",
    "class Solution:\n",
    "    def minPathSum(self, grid: List[List[int]]) -> int:\n",
    "        m = len(grid)\n",
    "        n = len(grid[0])\n",
    "        dp = [[0]*(n)]*(m)\n",
    "        for i in range(m):\n",
    "            for j in range(n):\n",
    "                if i == 0 and j == 0:\n",
    "                    dp[i][j] = grid[i][j]\n",
    "                elif i == 0:\n",
    "                    dp[i][j] = grid[i][j] + dp[i][j-1]\n",
    "                elif j == 0:\n",
    "                    dp[i][j] = grid[i][j] + dp[i-1][j]\n",
    "                else:\n",
    "                    dp[i][j] = grid[i][j] + min(dp[i-1][j], dp[i][j-1])\n",
    "        return dp[-1][-1]\n",
    "\n"
   ]
  },
  {
   "cell_type": "code",
   "execution_count": null,
   "metadata": {},
   "outputs": [],
   "source": [
    "# Leetcode 368 Largest Divisible Subset (接龙型dp)\n",
    "# Similar to brute force\n",
    "class Solution:\n",
    "    def largestDivisibleSubset(self, nums: List[int]) -> List[int]:       \n",
    "        S = {-1: set()}\n",
    "        for x in sorted(nums):\n",
    "            S[x] = max((S[d] for d in S if x % d == 0), key=len) | {x}\n",
    "        return list(max(S.values(), key=len))"
   ]
  },
  {
   "cell_type": "code",
   "execution_count": 8,
   "metadata": {},
   "outputs": [
    {
     "name": "stdout",
     "output_type": "stream",
     "text": [
      "[6]\n",
      "[6, 7]\n",
      "[2, 7]\n"
     ]
    },
    {
     "data": {
      "text/plain": [
       "[2, 7]"
      ]
     },
     "execution_count": 8,
     "metadata": {},
     "output_type": "execute_result"
    }
   ],
   "source": [
    "# Leetcode 300 Longest Increasing Subsequence\n",
    "\n",
    "# class Solution:\n",
    "#     def lengthOfLIS(self, nums: List[int]) -> int:\n",
    "#         n = len(nums)\n",
    "#         dp = [1]*n\n",
    "#         for i in range(n):\n",
    "#             for j in range(i):\n",
    "#                 if nums[i] > nums[j]:\n",
    "#                     dp[i] = max(dp[i], dp[j]+1)\n",
    "#         return max(dp)\n",
    "\n",
    "# only return true length but can not return true subsequnce\n",
    "from bisect import bisect_left\n",
    "def lis(nums):\n",
    "    dp = []\n",
    "    for i in range(len(nums)):\n",
    "        idx = bisect_left(dp, nums[i])\n",
    "        if idx == len(dp):\n",
    "            dp.append(nums[i])\n",
    "        else:\n",
    "            dp[idx] = nums[i]\n",
    "        print(dp)\n",
    "    return dp\n",
    "lis([6, 7, 2])"
   ]
  },
  {
   "attachments": {},
   "cell_type": "markdown",
   "metadata": {},
   "source": [
    "After we sort our envelopes, we can simply find the length of the longest increasing subsequence on the second dimension (h). Note that we use a clever trick to solve some edge cases:\n",
    "\n",
    "Consider an input [[1, 3], [1, 4], [1, 5], [2, 3]]. If we simply sort and extract the second dimension we get [3, 4, 5, 3], which implies that we can fit three envelopes (3, 4, 5). The problem is that we can only fit one envelope, since envelopes that are equal in the first dimension can't be put into each other.\n",
    "\n",
    "In order fix this, we don't just sort increasing in the first dimension - we also sort decreasing on the second dimension, so two envelopes that are equal in the first dimension can never be in the same increasing subsequence.\n",
    "\n",
    "Now when we sort and extract the second element from the input we get [5, 4, 3, 3], which correctly reflects an LIS of one."
   ]
  },
  {
   "cell_type": "code",
   "execution_count": 3,
   "metadata": {},
   "outputs": [
    {
     "name": "stdout",
     "output_type": "stream",
     "text": [
      "[]\n",
      "0\n",
      "[2]\n",
      "1\n",
      "[2, 5]\n",
      "2\n",
      "[2, 5, 6]\n",
      "2\n"
     ]
    },
    {
     "data": {
      "text/plain": [
       "3"
      ]
     },
     "execution_count": 3,
     "metadata": {},
     "output_type": "execute_result"
    }
   ],
   "source": [
    "# Leetcode 354 Russian Doll Envelopes (接龙型dp， 300的2D版)\n",
    "\n",
    "from bisect import bisect_left\n",
    "class Solution:\n",
    "    def maxEnvelopes(self, envelopes: List[List[int]]) -> int:\n",
    "        envelopes.sort(key=lambda x: (x[0], -x[1]))\n",
    "        n = len(envelopes)\n",
    "        print(envelopes)\n",
    "        def LIS(nums):\n",
    "            dp = []\n",
    "            for i in range(len(nums)):\n",
    "                idx = bisect_left(dp, nums[i])\n",
    "                if len(dp) == idx:\n",
    "                    dp.append(nums[i])\n",
    "                if len(dp) > idx:\n",
    "                    dp[idx] = nums[i]\n",
    "            return len(dp)\n",
    "        nums = [x[1] for x in envelopes]\n",
    "        return LIS(nums)"
   ]
  },
  {
   "cell_type": "code",
   "execution_count": null,
   "metadata": {},
   "outputs": [],
   "source": []
  }
 ],
 "metadata": {
  "kernelspec": {
   "display_name": "base",
   "language": "python",
   "name": "python3"
  },
  "language_info": {
   "codemirror_mode": {
    "name": "ipython",
    "version": 3
   },
   "file_extension": ".py",
   "mimetype": "text/x-python",
   "name": "python",
   "nbconvert_exporter": "python",
   "pygments_lexer": "ipython3",
   "version": "3.9.12"
  },
  "orig_nbformat": 4,
  "vscode": {
   "interpreter": {
    "hash": "40d3a090f54c6569ab1632332b64b2c03c39dcf918b08424e98f38b5ae0af88f"
   }
  }
 },
 "nbformat": 4,
 "nbformat_minor": 2
}
