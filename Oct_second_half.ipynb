{
 "cells": [
  {
   "cell_type": "markdown",
   "metadata": {},
   "source": [
    "### HackerRank"
   ]
  },
  {
   "cell_type": "code",
   "execution_count": 12,
   "metadata": {},
   "outputs": [
    {
     "name": "stdout",
     "output_type": "stream",
     "text": [
      "2\n"
     ]
    }
   ],
   "source": [
    "# selling product\n",
    "import heapq\n",
    "n = 10\n",
    "ids = [3, 2, 4, 5, 5, 6, 6]\n",
    "m = 4\n",
    "#(number, id)\n",
    "def remove(n, ids, m):\n",
    "    d = {}\n",
    "    h = []\n",
    "    heapq.heapify(h)\n",
    "    for i in ids:\n",
    "        if i not in d:\n",
    "            d[i] = 1\n",
    "        else:\n",
    "            d[i] += 1\n",
    "    for key in d:\n",
    "        heapq.heappush(h, (d[key], key))\n",
    "    while m > 0:\n",
    "        item = heapq.heappop(h)\n",
    "        num = item[0]\n",
    "        id = item[1]\n",
    "        m -= num\n",
    "    return len(h) + 1 if m < 0 else len(h)\n",
    "print(remove(n, ids, m))"
   ]
  },
  {
   "cell_type": "code",
   "execution_count": 18,
   "metadata": {},
   "outputs": [
    {
     "name": "stdout",
     "output_type": "stream",
     "text": [
      "defaultdict(<class 'int'>, {0: 1, 1: 2})\n",
      "2\n"
     ]
    }
   ],
   "source": [
    "# Bitwise XOR Subsequences\n",
    "from collections import defaultdict\n",
    "def longestSubsequence(s, k):\n",
    "    dp = defaultdict(int)\n",
    "\n",
    "    for i in s:\n",
    "        newval = 0\n",
    "        for prev in dp:\n",
    "            if (prev ^ i == k):\n",
    "                newval = max(newval, dp[prev])\n",
    "        dp[newval] = newval+1\n",
    "    \n",
    "    return max(dp.values())\n",
    "s = [2, 1, 3, 5, 2]\n",
    "k = 2\n",
    "print(longestSubsequence(s, k))"
   ]
  },
  {
   "cell_type": "code",
   "execution_count": 24,
   "metadata": {},
   "outputs": [
    {
     "name": "stdout",
     "output_type": "stream",
     "text": [
      "[1, 1, 2, 1, 1]\n",
      "2\n"
     ]
    }
   ],
   "source": [
    "def longestSubsequence(s, k):\n",
    "    n = len(s)\n",
    "    dp = [1]*n\n",
    "    for i in range(1, n):\n",
    "        for j in range(i):\n",
    "            if s[i]^s[j] == k:\n",
    "                dp[i] = max(dp[i], dp[j]+1)\n",
    "                print(dp)\n",
    "    return max(dp)\n",
    "s = [2, 1, 3, 5, 2]\n",
    "k = 2\n",
    "print(longestSubsequence(s, k))"
   ]
  },
  {
   "cell_type": "code",
   "execution_count": 1,
   "metadata": {},
   "outputs": [
    {
     "name": "stdout",
     "output_type": "stream",
     "text": [
      "[18.42666667 19.8152381 ]\n"
     ]
    }
   ],
   "source": [
    "# necessary import libraries\n",
    "import datetime\n",
    "import numpy as np\n",
    "from sklearn.linear_model import LinearRegression\n",
    "\n",
    "# utility function\n",
    "def predictMissingHumidity(startDate, endDate, knownTimestamps, humidity, timestamps):\n",
    "    x = [int(abs((datetime.datetime.utcfromtimestamp(0) - datetime.datetime.strptime(item,\"%Y-%m-%d %H:%M\")).total_seconds())) for item in knownTimestamps]\n",
    "    y = humidity\n",
    "\n",
    "    lm = LinearRegression()\n",
    "    lm.fit(np.array(x).reshape(-1,1),y)\n",
    "\n",
    "    z = [int(abs((datetime.datetime.utcfromtimestamp(0) - datetime.datetime.strptime(item,\"%Y-%m-%d %H:%M\")).total_seconds())) for item in timestamps]\n",
    "    return lm.predict(np.array(z).reshape(-1,1))\n",
    "\n",
    "# dummy inputs\n",
    "startDate = '2013-01-01'\n",
    "endDate = '2013-01-01'\n",
    "knownTimestamps = ['2013-01-01 07:00', '2013-01-01 08:00', '2013-01-01 09:00', '2013-01-01 10:00',\n",
    "                      '2013-01-01 11:00', '2013-01-01 12:00']\n",
    "humidity = [10.0, 11.1, 13.2, 14.8, 15.6, 16.7]\n",
    "timestamps= ['2013-01-01 13:00', '2013-01-01 14:00']\n",
    "\n",
    "# call the utility function\n",
    "answer = predictMissingHumidity(startDate, endDate, knownTimestamps, humidity, timestamps)\n",
    "print(answer)"
   ]
  },
  {
   "cell_type": "code",
   "execution_count": null,
   "metadata": {},
   "outputs": [],
   "source": []
  }
 ],
 "metadata": {
  "kernelspec": {
   "display_name": "Python 3.9.12 ('base')",
   "language": "python",
   "name": "python3"
  },
  "language_info": {
   "codemirror_mode": {
    "name": "ipython",
    "version": 3
   },
   "file_extension": ".py",
   "mimetype": "text/x-python",
   "name": "python",
   "nbconvert_exporter": "python",
   "pygments_lexer": "ipython3",
   "version": "3.9.12"
  },
  "orig_nbformat": 4,
  "vscode": {
   "interpreter": {
    "hash": "40d3a090f54c6569ab1632332b64b2c03c39dcf918b08424e98f38b5ae0af88f"
   }
  }
 },
 "nbformat": 4,
 "nbformat_minor": 2
}
