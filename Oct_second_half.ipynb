{
 "cells": [
  {
   "cell_type": "markdown",
   "metadata": {},
   "source": [
    "### HackerRank"
   ]
  },
  {
   "cell_type": "code",
   "execution_count": 12,
   "metadata": {},
   "outputs": [
    {
     "name": "stdout",
     "output_type": "stream",
     "text": [
      "2\n"
     ]
    }
   ],
   "source": [
    "# selling product\n",
    "import heapq\n",
    "n = 10\n",
    "ids = [3, 2, 4, 5, 5, 6, 6]\n",
    "m = 4\n",
    "#(number, id)\n",
    "def remove(n, ids, m):\n",
    "    d = {}\n",
    "    h = []\n",
    "    heapq.heapify(h)\n",
    "    for i in ids:\n",
    "        if i not in d:\n",
    "            d[i] = 1\n",
    "        else:\n",
    "            d[i] += 1\n",
    "    for key in d:\n",
    "        heapq.heappush(h, (d[key], key))\n",
    "    while m > 0:\n",
    "        item = heapq.heappop(h)\n",
    "        num = item[0]\n",
    "        id = item[1]\n",
    "        m -= num\n",
    "    return len(h) + 1 if m < 0 else len(h)\n",
    "print(remove(n, ids, m))"
   ]
  },
  {
   "cell_type": "code",
   "execution_count": 18,
   "metadata": {},
   "outputs": [
    {
     "name": "stdout",
     "output_type": "stream",
     "text": [
      "defaultdict(<class 'int'>, {0: 1, 1: 2})\n",
      "2\n"
     ]
    }
   ],
   "source": [
    "# Bitwise XOR Subsequences\n",
    "from collections import defaultdict\n",
    "def longestSubsequence(s, k):\n",
    "    dp = defaultdict(int)\n",
    "\n",
    "    for i in s:\n",
    "        newval = 0\n",
    "        for prev in dp:\n",
    "            if (prev ^ i == k):\n",
    "                newval = max(newval, dp[prev])\n",
    "        dp[newval] = newval+1\n",
    "    \n",
    "    return max(dp.values())\n",
    "s = [2, 1, 3, 5, 2]\n",
    "k = 2\n",
    "print(longestSubsequence(s, k))"
   ]
  },
  {
   "cell_type": "code",
   "execution_count": 24,
   "metadata": {},
   "outputs": [
    {
     "name": "stdout",
     "output_type": "stream",
     "text": [
      "[1, 1, 2, 1, 1]\n",
      "2\n"
     ]
    }
   ],
   "source": [
    "def longestSubsequence(s, k):\n",
    "    n = len(s)\n",
    "    dp = [1]*n\n",
    "    for i in range(1, n):\n",
    "        for j in range(i):\n",
    "            if s[i]^s[j] == k:\n",
    "                dp[i] = max(dp[i], dp[j]+1)\n",
    "                print(dp)\n",
    "    return max(dp)\n",
    "s = [2, 1, 3, 5, 2]\n",
    "k = 2\n",
    "print(longestSubsequence(s, k))"
   ]
  },
  {
   "cell_type": "code",
   "execution_count": 1,
   "metadata": {},
   "outputs": [
    {
     "name": "stdout",
     "output_type": "stream",
     "text": [
      "[18.42666667 19.8152381 ]\n"
     ]
    }
   ],
   "source": [
    "# necessary import libraries\n",
    "import datetime\n",
    "import numpy as np\n",
    "from sklearn.linear_model import LinearRegression\n",
    "\n",
    "# utility function\n",
    "def predictMissingHumidity(startDate, endDate, knownTimestamps, humidity, timestamps):\n",
    "    x = [int(abs((datetime.datetime.utcfromtimestamp(0) - datetime.datetime.strptime(item,\"%Y-%m-%d %H:%M\")).total_seconds())) for item in knownTimestamps]\n",
    "    y = humidity\n",
    "\n",
    "    lm = LinearRegression()\n",
    "    lm.fit(np.array(x).reshape(-1,1),y)\n",
    "\n",
    "    z = [int(abs((datetime.datetime.utcfromtimestamp(0) - datetime.datetime.strptime(item,\"%Y-%m-%d %H:%M\")).total_seconds())) for item in timestamps]\n",
    "    return lm.predict(np.array(z).reshape(-1,1))\n",
    "\n",
    "# dummy inputs\n",
    "startDate = '2013-01-01'\n",
    "endDate = '2013-01-01'\n",
    "knownTimestamps = ['2013-01-01 07:00', '2013-01-01 08:00', '2013-01-01 09:00', '2013-01-01 10:00',\n",
    "                      '2013-01-01 11:00', '2013-01-01 12:00']\n",
    "humidity = [10.0, 11.1, 13.2, 14.8, 15.6, 16.7]\n",
    "timestamps= ['2013-01-01 13:00', '2013-01-01 14:00']\n",
    "\n",
    "# call the utility function\n",
    "answer = predictMissingHumidity(startDate, endDate, knownTimestamps, humidity, timestamps)\n",
    "print(answer)"
   ]
  },
  {
   "cell_type": "markdown",
   "metadata": {},
   "source": [
    "### Dynamic programming"
   ]
  },
  {
   "cell_type": "code",
   "execution_count": null,
   "metadata": {},
   "outputs": [],
   "source": [
    "# Leetcode 646. Maximum Length of Pair Chain\n",
    "\n",
    "class Solution:\n",
    "    def findLongestChain(self, pairs: List[List[int]]) -> int:\n",
    "        # pairs = [[1,2],[7,8],[4,5]]\n",
    "        # pairs.sort()\n",
    "        # pairs = [[1, 2], [4, 5], [7, 8]]\n",
    "        pairs.sort()\n",
    "        n = len(pairs)\n",
    "        dp = [1]*n\n",
    "        for i in range(n):\n",
    "            for j in range(i):\n",
    "                if pairs[i][0] > pairs[j][1]:\n",
    "                    dp[i] = max(dp[i], dp[j]+1)\n",
    "        return max(dp)"
   ]
  },
  {
   "cell_type": "code",
   "execution_count": null,
   "metadata": {},
   "outputs": [],
   "source": [
    "# Leetcode 300. Longest Increasing Subsequence\n",
    "\n",
    "class Solution:\n",
    "    def lengthOfLIS(self, nums: List[int]) -> int:\n",
    "        n = len(nums)\n",
    "        dp = [1]*n\n",
    "        for i in range(n):\n",
    "            for j in range(i):\n",
    "                if nums[i] > nums[j]:\n",
    "                    dp[i] = max(dp[i], dp[j]+1)\n",
    "        return max(dp)\n"
   ]
  },
  {
   "cell_type": "code",
   "execution_count": null,
   "metadata": {},
   "outputs": [],
   "source": [
    "# Leetcode 2370. Longest Ideal Subsequence\n",
    "\n",
    "class Solution:\n",
    "    def longestIdealString(self, s: str, k: int) -> int:\n",
    "        dp = collections.defaultdict(int)\n",
    "        for ch in s:\n",
    "            newval = 0\n",
    "            for prev in dp:\n",
    "                if abs(ord(ch)-ord(prev)) <= k:\n",
    "                    newval = max(newval, dp[prev])\n",
    "            dp[ch] = newval + 1\n",
    "        return max(dp.values())"
   ]
  },
  {
   "cell_type": "markdown",
   "metadata": {},
   "source": [
    "### Backtracking"
   ]
  },
  {
   "cell_type": "code",
   "execution_count": null,
   "metadata": {},
   "outputs": [],
   "source": [
    "# https://leetcode.com/problems/subsets/discuss/27281/A-general-approach-to-backtracking-questions-in-Java-(Subsets-Permutations-Combination-Sum-Palindrome-Partitioning)"
   ]
  },
  {
   "cell_type": "code",
   "execution_count": 2,
   "metadata": {},
   "outputs": [
    {
     "data": {
      "text/plain": [
       "[253, 234, 454]"
      ]
     },
     "execution_count": 2,
     "metadata": {},
     "output_type": "execute_result"
    }
   ],
   "source": [
    "# Leetcode 78. Subsets\n",
    "class Solution:\n",
    "    def subsets(self, nums: List[int]) -> List[List[int]]:\n",
    "        if not nums:\n",
    "            return []\n",
    "        if nums == []:\n",
    "            return [[]]\n",
    "        res=[]\n",
    "        \n",
    "        def helper(nums,tmp,res,i):\n",
    "            if i == len(nums):\n",
    "                res.append(tmp[:])\n",
    "                return \n",
    "            helper(nums,tmp,res,i+1)\n",
    "            tmp.append(nums[i])\n",
    "            helper(nums,tmp,res,i+1)\n",
    "            tmp.remove(tmp[-1])\n",
    "        \n",
    "        helper(nums, [], res, 0)\n",
    "        return res\n",
    "\n"
   ]
  },
  {
   "cell_type": "markdown",
   "metadata": {},
   "source": [
    "### eBay prepare"
   ]
  },
  {
   "cell_type": "markdown",
   "metadata": {},
   "source": [
    "设计Hashmap，含insert, get, addToKey, addToValue四种操作，回传get总和\n",
    "For queryType = [\"insert\", \"insert\", \"addToValue\", \"addToKey\", \"get\"] and \n",
    "query = [[1, 2], [2, 3], [2], [1], [3]], \n",
    "the output should be hashMap(queryType, query) = 5. \n",
    "The hashmap looks like this after each query:\n",
    "1 query: {1: 2}\n",
    "2 query: {1: 2, 2: 3}\n",
    "3 query: {1: 4, 2: 5}\n",
    "4 query: {2: 4, 3: 5}\n",
    "5 query: answer is 5\n",
    "The result of the last get query for 3 is 5 in the resulting hashmap."
   ]
  },
  {
   "cell_type": "code",
   "execution_count": 6,
   "metadata": {},
   "outputs": [
    {
     "name": "stdout",
     "output_type": "stream",
     "text": [
      "{1: 1}\n",
      "insert\n",
      "{1: 1}\n",
      "addToKey\n",
      "{1: 1, -1: 2}\n",
      "insert\n",
      "{1: 1, -1: 2}\n",
      "addToValue\n",
      "{1: 1, -1: 2}\n",
      "get\n",
      "5\n"
     ]
    }
   ],
   "source": [
    "def design_hashmap(queryType, query):     \n",
    "    res = 0     \n",
    "    memo = dict()      \n",
    "    extra_key = extra_value = 0     \n",
    "    for s, values in zip(queryType, query):         \n",
    "        if s == \"insert\":             \n",
    "            key, val = values             \n",
    "            memo[key-extra_key] = val - extra_value   \n",
    "            print(memo)    \n",
    "            print(\"insert\")   \n",
    "        elif s == \"addToKey\":             \n",
    "            key = values[0]             \n",
    "            extra_key += key  \n",
    "            print(memo) \n",
    "            print(\"addToKey\")       \n",
    "        elif s == \"addToValue\":             \n",
    "            val = values[0]             \n",
    "            extra_value += val  \n",
    "            print(memo)    \n",
    "            print(\"addToValue\")            \n",
    "        else: # get\n",
    "            key = values[0]             \n",
    "            res += memo[key - extra_key] + extra_value \n",
    "            print(memo)  \n",
    "            print(\"get\")   \n",
    "            return res  \n",
    "            \n",
    "            \n",
    "queryType = [\"insert\", \"addToKey\", \"insert\", \"addToValue\", \"get\", \"get\"] \n",
    "query = [[1, 1], [3], [2, 2], [4], [4], [2]] \n",
    "print(design_hashmap(queryType, query)) "
   ]
  },
  {
   "cell_type": "code",
   "execution_count": 4,
   "metadata": {},
   "outputs": [
    {
     "name": "stdout",
     "output_type": "stream",
     "text": [
      "John Jenny\n",
      "Charles Christy\n",
      "Mike Monica\n"
     ]
    }
   ],
   "source": [
    "# zip function\n",
    "a = (\"John\", \"Charles\", \"Mike\")\n",
    "b = (\"Jenny\", \"Christy\", \"Monica\")\n",
    "\n",
    "x = zip(a, b)\n",
    "for i, j in x:\n",
    "    print(i, j)"
   ]
  },
  {
   "cell_type": "markdown",
   "metadata": {},
   "source": [
    "Grid of black/white cells\n",
    "\n",
    "black = [[0,0], [0,1], [1,0]]\n",
    "output = [1,2,0,1,0]"
   ]
  },
  {
   "cell_type": "code",
   "execution_count": 23,
   "metadata": {},
   "outputs": [
    {
     "name": "stdout",
     "output_type": "stream",
     "text": [
      "[1, 2, 0, 1, 0]\n"
     ]
    }
   ],
   "source": [
    "# the memo dic store all black cell, and traversal from that can avoid sparse problem\n",
    "# running time O(black)\n",
    "# space O(black)\n",
    "\n",
    "import collections\n",
    "# find the number of black node if the upper left cell is (i, j)\n",
    "def black_count(i, j, memo):\n",
    "    count = 0\n",
    "    for (new_i, new_j) in [(i, j), (i+1, j), (i, j+1), (i+1, j+1)]:\n",
    "        if new_i in memo and new_j in memo[new_i]:\n",
    "            count += 1\n",
    "    return count\n",
    "\n",
    "def solution(rows, cols, black):\n",
    "    memo = collections.defaultdict(set)     \n",
    "    for (i, j) in black:         \n",
    "        memo[i].add(j)      \n",
    "    res = [0 for _ in range(5)]     \n",
    "    visited = set()\n",
    "    \n",
    "    # traversal the all black cell \n",
    "    for i in memo:\n",
    "        for j in memo[i]:\n",
    "            for (di, dj) in [(-1, -1), (-1, 0), (0, -1), (0, 0)]:\n",
    "                if 0<= i + di < rows-1 and 0<=j+dj<cols-1:\n",
    "                    if (i+di, j+dj) not in visited:\n",
    "                        count = black_count(i+di, j+dj, memo)\n",
    "                        res[count] += 1\n",
    "                        visited.add((i+di, j+dj))\n",
    "\n",
    "    # white cell = total (2 * 2 cell) - (2*2 black cell)\n",
    "    # have to add this line, since the black_count only consider the black cell before\n",
    "    res[0] = (rows-1) * (cols-1) - sum(res)\n",
    "    return res\n",
    "\n",
    "\n",
    "rows, cols = 3, 3\n",
    "black = [[0, 0], [0, 1], [1, 0]]\n",
    "print(solution(rows, cols, black)) # [1, 2, 0, 1, 0]\n",
    "\n"
   ]
  },
  {
   "cell_type": "markdown",
   "metadata": {},
   "source": [
    "You are given a boolean matrix field representing the distribution of bombs in the\n",
    "rectangular field. You are also given integers x and y , representing the coordinates\n",
    "of the player's first clicked cell - x represents the row index, and y represents the\n",
    "column index, both of which are 0 -based.\n",
    "Your task is to return an integer matrix of the same dimensions as field ,\n",
    "representing the resulting field after applying this click. If a cell remains concealed, the\n",
    "corresponding element should have a value of -1.\n",
    "It is guaranteed that the clicked cell does not contain a mine."
   ]
  },
  {
   "cell_type": "code",
   "execution_count": null,
   "metadata": {},
   "outputs": [],
   "source": []
  },
  {
   "cell_type": "code",
   "execution_count": null,
   "metadata": {},
   "outputs": [],
   "source": [
    "# https://github.com/mendelsimon/CodeSignal-Solutions"
   ]
  },
  {
   "cell_type": "markdown",
   "metadata": {},
   "source": [
    "A sawtooth sequence is a sequence of numbers that alternate between increasing and decreasing. In other words, each element is either strictly greater than its neighbouring elements or strictly less than its neighbouring elements.\n",
    "Given an array of integers arr, your task is to count the number of contiguous subarrays that represent a sawtooth sequence of at least two elements."
   ]
  },
  {
   "cell_type": "code",
   "execution_count": null,
   "metadata": {},
   "outputs": [],
   "source": [
    "# Leetcode 376.Wiggle Subsequence\n",
    "\n",
    "class Solution:\n",
    "    def wiggleMaxLength(self, nums: List[int]) -> int:\n",
    "        inc = 1\n",
    "        dec = 1\n",
    "        for i in range(1,len(nums)):\n",
    "            if nums[i-1] < nums[i]:\n",
    "                inc = dec + 1\n",
    "            elif nums[i-1] > nums[i]:\n",
    "                dec = inc + 1\n",
    "        return max(inc, dec)"
   ]
  },
  {
   "cell_type": "code",
   "execution_count": 46,
   "metadata": {},
   "outputs": [
    {
     "data": {
      "text/plain": [
       "15"
      ]
     },
     "execution_count": 46,
     "metadata": {},
     "output_type": "execute_result"
    }
   ],
   "source": [
    "def solution(arr):     \n",
    "    inc = dsc = 1  # length of increasing/decreasing     \n",
    "    n = len(arr)          \n",
    "    res = 0     \n",
    "    for i in range(1, n):         \n",
    "        inc_next = dsc_next = 1                  \n",
    "        if arr[i] > arr[i-1]:             \n",
    "            inc_next = dsc + 1                         \n",
    "        if arr[i] < arr[i-1]:             \n",
    "            dsc_next = inc + 1  \n",
    "        # compute how many subarray end at i         \n",
    "        inc, dsc = inc_next, dsc_next    \n",
    "        \n",
    "        if inc >= 2:             \n",
    "            res += inc - 1   \n",
    "        if dsc >= 2:             \n",
    "            res += dsc - 1             \n",
    "    return res\n",
    "arr1 = [1,17,5,10,13,15,10,5,16,8]\n",
    "arr2 = [1,7,4,9,2,5]\n",
    "solution(arr2)\n"
   ]
  },
  {
   "cell_type": "markdown",
   "metadata": {},
   "source": [
    "send message by chunks"
   ]
  },
  {
   "cell_type": "code",
   "execution_count": null,
   "metadata": {},
   "outputs": [],
   "source": []
  },
  {
   "cell_type": "markdown",
   "metadata": {},
   "source": [
    "array of messages"
   ]
  },
  {
   "cell_type": "code",
   "execution_count": null,
   "metadata": {},
   "outputs": [],
   "source": []
  },
  {
   "cell_type": "markdown",
   "metadata": {},
   "source": [
    "given vector of commands in the form \"cd <directory_name>\" return最终的directory path"
   ]
  },
  {
   "cell_type": "markdown",
   "metadata": {},
   "source": [
    "地里出现过 求在matrix里想构成Y最少需要modify几个cell， Y是一个数组成，background是另一个数"
   ]
  },
  {
   "cell_type": "markdown",
   "metadata": {},
   "source": [
    "第四题 vector of [start_byte_index, end_byte_index], 返回最终有多少个byte\n",
    "EX[[1,1], [2,2], [3,3]] 最终有3个byte; [[1,‍‍‌‌‍‍‍‍‍‌‌‌‌‍‌‍‌‍‍‌3], [2,4], [1,4]] 最终有4个byte, overlap的不算"
   ]
  },
  {
   "cell_type": "markdown",
   "metadata": {},
   "source": [
    "Given a square matrix of integers a  and an array of queries q , your task is to return the given matrix after processing all the queries on it. There are three types of queries:"
   ]
  },
  {
   "cell_type": "code",
   "execution_count": 71,
   "metadata": {},
   "outputs": [
    {
     "name": "stdout",
     "output_type": "stream",
     "text": [
      "[[1, 5, 9, 13, 9], [2, 6, 10, 14, 10], [3, 7, 11, 15, 11], [4, 8, 12, 16, 12], [5, 6, 7, 8, 13]]\n",
      "[[13, 12, 11, 10, 9], [8, 16, 15, 14, 13], [7, 12, 11, 10, 9], [6, 8, 7, 6, 5], [5, 4, 3, 2, 1]]\n"
     ]
    }
   ],
   "source": [
    "# Leetcode 48. Rotate Image (clockwise)\n",
    "class Solution:\n",
    "    def rotate(self, matrix: List[List[int]]) -> None:\n",
    "        \"\"\"\n",
    "        Do not return anything, modify matrix in-place instead.\n",
    "        \"\"\"\n",
    "        n = len(matrix[0])\n",
    "        for i in range(n // 2 + n % 2):\n",
    "            for j in range(n // 2):\n",
    "                tmp = matrix[i][j]\n",
    "                matrix[i][j] = matrix[n-1-j][i]\n",
    "                matrix[n-1-j][i] = matrix[n-1-i][n-1-j]\n",
    "                matrix[n-1-i][n-1-j] = matrix[j][n-1-i]\n",
    "                matrix[j][n-1-i] = tmp\n",
    "        return matrix\n",
    "\n",
    "# reflect matrix in main diagonal\n",
    "def reflect_main_diagonal(matrix):\n",
    "    n = len(matrix[0])\n",
    "    for i in range(n):\n",
    "        for j in range(i+1, n):\n",
    "            tmp = matrix[i][j]\n",
    "            matrix[i][j] = matrix[j][i]\n",
    "            matrix[j][i] = tmp\n",
    "    return matrix\n",
    "\n",
    "\n",
    "# reflect matrix in secondary diagonal\n",
    "def reflect_second_diagonal(matrix):\n",
    "    n = len(matrix[0])\n",
    "    for i in range(n-1):\n",
    "        for j in range(n-i-1):\n",
    "            tmp = matrix[i][j]\n",
    "            matrix[i][j] = matrix[n-j-1][n-i-1]\n",
    "            matrix[n-j-1][n-i-1] = tmp\n",
    "    return matrix\n",
    "\n",
    "matrix = [[1, 2, 3, 4, 5], [5, 6, 7, 8, 6], [9, 10, 11, 12, 7], [13, 14, 15, 16, 8], [9, 10, 11, 12, 13]]\n",
    "print(reflect_main_diagonal(matrix))\n",
    "print(reflect_second_diagonal(matrix))"
   ]
  },
  {
   "cell_type": "markdown",
   "metadata": {},
   "source": [
    "A cyclic shift is the operation of rearranging the digits in a number (in decimal format) by moving some digits at the end of the number to before the beginning of the number, while shifting all other digits to the next position. Given two integers of the same length a and b , a  would be a cyclic pair of b if it's possible for a to become equal to b after performing cyclic shifts on a  - moving 0 or more ending digits to the beginning while shifting all other digits to the next position in the same order."
   ]
  },
  {
   "cell_type": "code",
   "execution_count": 60,
   "metadata": {},
   "outputs": [
    {
     "name": "stdout",
     "output_type": "stream",
     "text": [
      "{}\n",
      "{13: 1}\n",
      "{13: 1, 5604: 1}\n",
      "{13: 2, 5604: 1}\n",
      "{13: 2, 5604: 1, 2: 1}\n",
      "{13: 3, 5604: 1, 2: 1}\n",
      "{13: 3, 5604: 2, 2: 1}\n",
      "{13: 3, 5604: 2, 2: 1, 546: 1}\n",
      "{13: 3, 5604: 2, 2: 1, 546: 2}\n"
     ]
    },
    {
     "data": {
      "text/plain": [
       "5"
      ]
     },
     "execution_count": 60,
     "metadata": {},
     "output_type": "execute_result"
    }
   ],
   "source": [
    "def check(a, b):\n",
    "    a = str(a)\n",
    "    b = str(b)\n",
    "    if len(a) != len(b):\n",
    "        return False\n",
    "    f = False\n",
    "    i = 0\n",
    "    while not f:\n",
    "        i += 1\n",
    "        if i == len(a):\n",
    "            break\n",
    "        tmp = b[-1]\n",
    "        b = tmp + b[:-1]\n",
    "        if b == a:\n",
    "            f = True\n",
    "            break\n",
    "    return True if f else False\n",
    "\n",
    "def cyclic_shift_pairs(a):\n",
    "    d = {}\n",
    "    res = 0\n",
    "    for i in a:\n",
    "        print(d)\n",
    "        if i in d:\n",
    "            res += d[i]\n",
    "            d[i] += 1\n",
    "        else: # i not in d\n",
    "            exist = False\n",
    "            for item in d:\n",
    "                if check(i, item):\n",
    "                    exist = True\n",
    "                    res += d[item]\n",
    "                    d[item] += 1\n",
    "            if not exist:\n",
    "                d[i] = 1         \n",
    "    return res\n",
    "a = [13, 5604, 31, 2, 13, 4560, 546, 654, 456]\n",
    "cyclic_shift_pairs(a)"
   ]
  },
  {
   "cell_type": "code",
   "execution_count": 5,
   "metadata": {},
   "outputs": [
    {
     "name": "stdout",
     "output_type": "stream",
     "text": [
      "res = 1\n",
      "res = 2\n",
      "res = 3\n",
      "res = 4\n",
      "in d res = 5\n",
      "res = 7\n",
      "res = 8\n",
      "res = 9\n",
      "res = 10\n",
      "res = 11\n",
      "{1: 2, 151: 1, 241: 1, 9: 1, 22: 1, 351: 1}\n",
      "11\n"
     ]
    }
   ],
   "source": [
    "# Leetcode 79. Word Search\n",
    "from genericpath import exists\n",
    "\n",
    "\n",
    "def solution(numbers):\n",
    "    def check(i, j):\n",
    "        i = str(i)\n",
    "        j = str(j)\n",
    "        same_count = 0\n",
    "        if len(i) == 1 and len(j) == 1:\n",
    "            return True\n",
    "        if len(i) != len(j):\n",
    "            return False\n",
    "        for s in j:\n",
    "            if s in i:\n",
    "                same_count += 1\n",
    "        diff = len(i) - same_count\n",
    "        return True if diff <= 1 else False\n",
    "\n",
    "    d = {}\n",
    "    res = 0\n",
    "    for number in numbers:\n",
    "        if number in d:\n",
    "            res += d[number]\n",
    "            d[number] += 1\n",
    "            print(\"in d res = \" + str(res))  \n",
    "        else: # number not in d\n",
    "            d[number] = 1\n",
    "            for item in d:\n",
    "                if check(number, item):\n",
    "                    res += d[item]    \n",
    "                    print(\"res = \" + str(res))  \n",
    "    print(d)\n",
    "    return res\n",
    "numbers = [1, 151, 241, 1, 9, 22, 351]\n",
    "#print(solution(numbers))\n"
   ]
  },
  {
   "cell_type": "code",
   "execution_count": null,
   "metadata": {},
   "outputs": [],
   "source": [
    "# Leetcode 1197\n",
    "# Leetcode 1381"
   ]
  }
 ],
 "metadata": {
  "kernelspec": {
   "display_name": "Python 3.9.12 ('base')",
   "language": "python",
   "name": "python3"
  },
  "language_info": {
   "codemirror_mode": {
    "name": "ipython",
    "version": 3
   },
   "file_extension": ".py",
   "mimetype": "text/x-python",
   "name": "python",
   "nbconvert_exporter": "python",
   "pygments_lexer": "ipython3",
   "version": "3.9.12"
  },
  "orig_nbformat": 4,
  "vscode": {
   "interpreter": {
    "hash": "40d3a090f54c6569ab1632332b64b2c03c39dcf918b08424e98f38b5ae0af88f"
   }
  }
 },
 "nbformat": 4,
 "nbformat_minor": 2
}
