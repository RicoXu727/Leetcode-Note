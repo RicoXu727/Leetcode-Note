{
 "cells": [
  {
   "cell_type": "markdown",
   "metadata": {},
   "source": [
    "### HackerRank"
   ]
  },
  {
   "cell_type": "code",
   "execution_count": 12,
   "metadata": {},
   "outputs": [
    {
     "name": "stdout",
     "output_type": "stream",
     "text": [
      "2\n"
     ]
    }
   ],
   "source": [
    "# selling product\n",
    "import heapq\n",
    "n = 10\n",
    "ids = [3, 2, 4, 5, 5, 6, 6]\n",
    "m = 4\n",
    "#(number, id)\n",
    "def remove(n, ids, m):\n",
    "    d = {}\n",
    "    h = []\n",
    "    heapq.heapify(h)\n",
    "    for i in ids:\n",
    "        if i not in d:\n",
    "            d[i] = 1\n",
    "        else:\n",
    "            d[i] += 1\n",
    "    for key in d:\n",
    "        heapq.heappush(h, (d[key], key))\n",
    "    while m > 0:\n",
    "        item = heapq.heappop(h)\n",
    "        num = item[0]\n",
    "        id = item[1]\n",
    "        m -= num\n",
    "    return len(h) + 1 if m < 0 else len(h)\n",
    "print(remove(n, ids, m))"
   ]
  },
  {
   "cell_type": "code",
   "execution_count": 18,
   "metadata": {},
   "outputs": [
    {
     "name": "stdout",
     "output_type": "stream",
     "text": [
      "defaultdict(<class 'int'>, {0: 1, 1: 2})\n",
      "2\n"
     ]
    }
   ],
   "source": [
    "# Bitwise XOR Subsequences\n",
    "from collections import defaultdict\n",
    "def longestSubsequence(s, k):\n",
    "    dp = defaultdict(int)\n",
    "\n",
    "    for i in s:\n",
    "        newval = 0\n",
    "        for prev in dp:\n",
    "            if (prev ^ i == k):\n",
    "                newval = max(newval, dp[prev])\n",
    "        dp[newval] = newval+1\n",
    "    \n",
    "    return max(dp.values())\n",
    "s = [2, 1, 3, 5, 2]\n",
    "k = 2\n",
    "print(longestSubsequence(s, k))"
   ]
  },
  {
   "cell_type": "code",
   "execution_count": 24,
   "metadata": {},
   "outputs": [
    {
     "name": "stdout",
     "output_type": "stream",
     "text": [
      "[1, 1, 2, 1, 1]\n",
      "2\n"
     ]
    }
   ],
   "source": [
    "def longestSubsequence(s, k):\n",
    "    n = len(s)\n",
    "    dp = [1]*n\n",
    "    for i in range(1, n):\n",
    "        for j in range(i):\n",
    "            if s[i]^s[j] == k:\n",
    "                dp[i] = max(dp[i], dp[j]+1)\n",
    "                print(dp)\n",
    "    return max(dp)\n",
    "s = [2, 1, 3, 5, 2]\n",
    "k = 2\n",
    "print(longestSubsequence(s, k))"
   ]
  },
  {
   "cell_type": "code",
   "execution_count": 1,
   "metadata": {},
   "outputs": [
    {
     "name": "stdout",
     "output_type": "stream",
     "text": [
      "[18.42666667 19.8152381 ]\n"
     ]
    }
   ],
   "source": [
    "# necessary import libraries\n",
    "import datetime\n",
    "import numpy as np\n",
    "from sklearn.linear_model import LinearRegression\n",
    "\n",
    "# utility function\n",
    "def predictMissingHumidity(startDate, endDate, knownTimestamps, humidity, timestamps):\n",
    "    x = [int(abs((datetime.datetime.utcfromtimestamp(0) - datetime.datetime.strptime(item,\"%Y-%m-%d %H:%M\")).total_seconds())) for item in knownTimestamps]\n",
    "    y = humidity\n",
    "\n",
    "    lm = LinearRegression()\n",
    "    lm.fit(np.array(x).reshape(-1,1),y)\n",
    "\n",
    "    z = [int(abs((datetime.datetime.utcfromtimestamp(0) - datetime.datetime.strptime(item,\"%Y-%m-%d %H:%M\")).total_seconds())) for item in timestamps]\n",
    "    return lm.predict(np.array(z).reshape(-1,1))\n",
    "\n",
    "# dummy inputs\n",
    "startDate = '2013-01-01'\n",
    "endDate = '2013-01-01'\n",
    "knownTimestamps = ['2013-01-01 07:00', '2013-01-01 08:00', '2013-01-01 09:00', '2013-01-01 10:00',\n",
    "                      '2013-01-01 11:00', '2013-01-01 12:00']\n",
    "humidity = [10.0, 11.1, 13.2, 14.8, 15.6, 16.7]\n",
    "timestamps= ['2013-01-01 13:00', '2013-01-01 14:00']\n",
    "\n",
    "# call the utility function\n",
    "answer = predictMissingHumidity(startDate, endDate, knownTimestamps, humidity, timestamps)\n",
    "print(answer)"
   ]
  },
  {
   "cell_type": "markdown",
   "metadata": {},
   "source": [
    "### Dynamic programming"
   ]
  },
  {
   "cell_type": "code",
   "execution_count": null,
   "metadata": {},
   "outputs": [],
   "source": [
    "# Leetcode 646. Maximum Length of Pair Chain\n",
    "\n",
    "class Solution:\n",
    "    def findLongestChain(self, pairs: List[List[int]]) -> int:\n",
    "        # pairs = [[1,2],[7,8],[4,5]]\n",
    "        # pairs.sort()\n",
    "        # pairs = [[1, 2], [4, 5], [7, 8]]\n",
    "        pairs.sort()\n",
    "        n = len(pairs)\n",
    "        dp = [1]*n\n",
    "        for i in range(n):\n",
    "            for j in range(i):\n",
    "                if pairs[i][0] > pairs[j][1]:\n",
    "                    dp[i] = max(dp[i], dp[j]+1)\n",
    "        return max(dp)"
   ]
  },
  {
   "cell_type": "code",
   "execution_count": null,
   "metadata": {},
   "outputs": [],
   "source": [
    "# Leetcode 300. Longest Increasing Subsequence\n",
    "\n",
    "class Solution:\n",
    "    def lengthOfLIS(self, nums: List[int]) -> int:\n",
    "        n = len(nums)\n",
    "        dp = [1]*n\n",
    "        for i in range(n):\n",
    "            for j in range(i):\n",
    "                if nums[i] > nums[j]:\n",
    "                    dp[i] = max(dp[i], dp[j]+1)\n",
    "        return max(dp)\n"
   ]
  },
  {
   "cell_type": "code",
   "execution_count": null,
   "metadata": {},
   "outputs": [],
   "source": [
    "# Leetcode 2370. Longest Ideal Subsequence\n",
    "\n",
    "class Solution:\n",
    "    def longestIdealString(self, s: str, k: int) -> int:\n",
    "        dp = collections.defaultdict(int)\n",
    "        for ch in s:\n",
    "            newval = 0\n",
    "            for prev in dp:\n",
    "                if abs(ord(ch)-ord(prev)) <= k:\n",
    "                    newval = max(newval, dp[prev])\n",
    "            dp[ch] = newval + 1\n",
    "        return max(dp.values())"
   ]
  },
  {
   "cell_type": "markdown",
   "metadata": {},
   "source": [
    "### Backtracking"
   ]
  },
  {
   "cell_type": "code",
   "execution_count": null,
   "metadata": {},
   "outputs": [],
   "source": [
    "# https://leetcode.com/problems/subsets/discuss/27281/A-general-approach-to-backtracking-questions-in-Java-(Subsets-Permutations-Combination-Sum-Palindrome-Partitioning)"
   ]
  },
  {
   "cell_type": "code",
   "execution_count": 2,
   "metadata": {},
   "outputs": [
    {
     "data": {
      "text/plain": [
       "[253, 234, 454]"
      ]
     },
     "execution_count": 2,
     "metadata": {},
     "output_type": "execute_result"
    }
   ],
   "source": [
    "# Leetcode 78. Subsets\n",
    "class Solution:\n",
    "    def subsets(self, nums: List[int]) -> List[List[int]]:\n",
    "        if not nums:\n",
    "            return []\n",
    "        if nums == []:\n",
    "            return [[]]\n",
    "        res=[]\n",
    "        \n",
    "        def helper(nums,tmp,res,i):\n",
    "            if i == len(nums):\n",
    "                res.append(tmp[:])\n",
    "                return \n",
    "            helper(nums,tmp,res,i+1)\n",
    "            tmp.append(nums[i])\n",
    "            helper(nums,tmp,res,i+1)\n",
    "            tmp.remove(tmp[-1])\n",
    "        \n",
    "        helper(nums, [], res, 0)\n",
    "        return res\n",
    "\n"
   ]
  },
  {
   "cell_type": "markdown",
   "metadata": {},
   "source": [
    "### eBay prepare"
   ]
  },
  {
   "cell_type": "markdown",
   "metadata": {},
   "source": [
    "设计Hashmap，含insert, get, addToKey, addToValue四种操作，回传get总和\n",
    "For queryType = [\"insert\", \"insert\", \"addToValue\", \"addToKey\", \"get\"] and \n",
    "query = [[1, 2], [2, 3], [2], [1], [3]], \n",
    "the output should be hashMap(queryType, query) = 5. \n",
    "The hashmap looks like this after each query:\n",
    "1 query: {1: 2}\n",
    "2 query: {1: 2, 2: 3}\n",
    "3 query: {1: 4, 2: 5}\n",
    "4 query: {2: 4, 3: 5}\n",
    "5 query: answer is 5\n",
    "The result of the last get query for 3 is 5 in the resulting hashmap."
   ]
  },
  {
   "cell_type": "code",
   "execution_count": 6,
   "metadata": {},
   "outputs": [
    {
     "name": "stdout",
     "output_type": "stream",
     "text": [
      "{1: 1}\n",
      "insert\n",
      "{1: 1}\n",
      "addToKey\n",
      "{1: 1, -1: 2}\n",
      "insert\n",
      "{1: 1, -1: 2}\n",
      "addToValue\n",
      "{1: 1, -1: 2}\n",
      "get\n",
      "5\n"
     ]
    }
   ],
   "source": [
    "def design_hashmap(queryType, query):     \n",
    "    res = 0     \n",
    "    memo = dict()      \n",
    "    extra_key = extra_value = 0     \n",
    "    for s, values in zip(queryType, query):         \n",
    "        if s == \"insert\":             \n",
    "            key, val = values             \n",
    "            memo[key-extra_key] = val - extra_value   \n",
    "            print(memo)    \n",
    "            print(\"insert\")   \n",
    "        elif s == \"addToKey\":             \n",
    "            key = values[0]             \n",
    "            extra_key += key  \n",
    "            print(memo) \n",
    "            print(\"addToKey\")       \n",
    "        elif s == \"addToValue\":             \n",
    "            val = values[0]             \n",
    "            extra_value += val  \n",
    "            print(memo)    \n",
    "            print(\"addToValue\")            \n",
    "        else: # get\n",
    "            key = values[0]             \n",
    "            res += memo[key - extra_key] + extra_value \n",
    "            print(memo)  \n",
    "            print(\"get\")   \n",
    "            return res  \n",
    "            \n",
    "            \n",
    "queryType = [\"insert\", \"addToKey\", \"insert\", \"addToValue\", \"get\", \"get\"] \n",
    "query = [[1, 1], [3], [2, 2], [4], [4], [2]] \n",
    "print(design_hashmap(queryType, query)) "
   ]
  },
  {
   "cell_type": "code",
   "execution_count": 4,
   "metadata": {},
   "outputs": [
    {
     "name": "stdout",
     "output_type": "stream",
     "text": [
      "John Jenny\n",
      "Charles Christy\n",
      "Mike Monica\n"
     ]
    }
   ],
   "source": [
    "# zip function\n",
    "a = (\"John\", \"Charles\", \"Mike\")\n",
    "b = (\"Jenny\", \"Christy\", \"Monica\")\n",
    "\n",
    "x = zip(a, b)\n",
    "for i, j in x:\n",
    "    print(i, j)"
   ]
  },
  {
   "cell_type": "markdown",
   "metadata": {},
   "source": [
    "Grid of black/white cells\n",
    "\n",
    "black = [[0,0], [0,1], [1,0]]\n",
    "output = [1,2,0,1,0]"
   ]
  },
  {
   "cell_type": "code",
   "execution_count": 23,
   "metadata": {},
   "outputs": [
    {
     "name": "stdout",
     "output_type": "stream",
     "text": [
      "[1, 2, 0, 1, 0]\n"
     ]
    }
   ],
   "source": [
    "# the memo dic store all black cell, and traversal from that can avoid sparse problem\n",
    "# running time O(black)\n",
    "# space O(black)\n",
    "\n",
    "import collections\n",
    "# find the number of black node if the upper left cell is (i, j)\n",
    "def black_count(i, j, memo):\n",
    "    count = 0\n",
    "    for (new_i, new_j) in [(i, j), (i+1, j), (i, j+1), (i+1, j+1)]:\n",
    "        if new_i in memo and new_j in memo[new_i]:\n",
    "            count += 1\n",
    "    return count\n",
    "\n",
    "def solution(rows, cols, black):\n",
    "    memo = collections.defaultdict(set)     \n",
    "    for (i, j) in black:         \n",
    "        memo[i].add(j)      \n",
    "    res = [0 for _ in range(5)]     \n",
    "    visited = set()\n",
    "    \n",
    "    # traversal the all black cell \n",
    "    for i in memo:\n",
    "        for j in memo[i]:\n",
    "            for (di, dj) in [(-1, -1), (-1, 0), (0, -1), (0, 0)]:\n",
    "                if 0<= i + di < rows-1 and 0<=j+dj<cols-1:\n",
    "                    if (i+di, j+dj) not in visited:\n",
    "                        count = black_count(i+di, j+dj, memo)\n",
    "                        res[count] += 1\n",
    "                        visited.add((i+di, j+dj))\n",
    "\n",
    "    # white cell = total (2 * 2 cell) - (2*2 black cell)\n",
    "    # have to add this line, since the black_count only consider the black cell before\n",
    "    res[0] = (rows-1) * (cols-1) - sum(res)\n",
    "    return res\n",
    "\n",
    "\n",
    "rows, cols = 3, 3\n",
    "black = [[0, 0], [0, 1], [1, 0]]\n",
    "print(solution(rows, cols, black)) # [1, 2, 0, 1, 0]\n",
    "\n"
   ]
  },
  {
   "cell_type": "markdown",
   "metadata": {},
   "source": [
    "You are given a boolean matrix field representing the distribution of bombs in the\n",
    "rectangular field. You are also given integers x and y , representing the coordinates\n",
    "of the player's first clicked cell - x represents the row index, and y represents the\n",
    "column index, both of which are 0 -based.\n",
    "Your task is to return an integer matrix of the same dimensions as field ,\n",
    "representing the resulting field after applying this click. If a cell remains concealed, the\n",
    "corresponding element should have a value of -1.\n",
    "It is guaranteed that the clicked cell does not contain a mine."
   ]
  },
  {
   "cell_type": "code",
   "execution_count": null,
   "metadata": {},
   "outputs": [],
   "source": []
  },
  {
   "cell_type": "code",
   "execution_count": null,
   "metadata": {},
   "outputs": [],
   "source": [
    "# https://github.com/mendelsimon/CodeSignal-Solutions"
   ]
  },
  {
   "cell_type": "markdown",
   "metadata": {},
   "source": [
    "A sawtooth sequence is a sequence of numbers that alternate between increasing and decreasing. In other words, each element is either strictly greater than its neighbouring elements or strictly less than its neighbouring elements.\n",
    "Given an array of integers arr, your task is to count the number of contiguous subarrays that represent a sawtooth sequence of at least two elements."
   ]
  },
  {
   "cell_type": "code",
   "execution_count": null,
   "metadata": {},
   "outputs": [],
   "source": [
    "# Leetcode 376.Wiggle Subsequence\n",
    "\n",
    "class Solution:\n",
    "    def wiggleMaxLength(self, nums: List[int]) -> int:\n",
    "        inc = 1\n",
    "        dec = 1\n",
    "        for i in range(1,len(nums)):\n",
    "            if nums[i-1] < nums[i]:\n",
    "                inc = dec + 1\n",
    "            elif nums[i-1] > nums[i]:\n",
    "                dec = inc + 1\n",
    "        return max(inc, dec)"
   ]
  },
  {
   "cell_type": "code",
   "execution_count": 46,
   "metadata": {},
   "outputs": [
    {
     "data": {
      "text/plain": [
       "15"
      ]
     },
     "execution_count": 46,
     "metadata": {},
     "output_type": "execute_result"
    }
   ],
   "source": [
    "def solution(arr):     \n",
    "    inc = dsc = 1  # length of increasing/decreasing     \n",
    "    n = len(arr)          \n",
    "    res = 0     \n",
    "    for i in range(1, n):         \n",
    "        inc_next = dsc_next = 1                  \n",
    "        if arr[i] > arr[i-1]:             \n",
    "            inc_next = dsc + 1                         \n",
    "        if arr[i] < arr[i-1]:             \n",
    "            dsc_next = inc + 1  \n",
    "        # compute how many subarray end at i         \n",
    "        inc, dsc = inc_next, dsc_next    \n",
    "        \n",
    "        if inc >= 2:             \n",
    "            res += inc - 1   \n",
    "        if dsc >= 2:             \n",
    "            res += dsc - 1             \n",
    "    return res\n",
    "arr1 = [1,17,5,10,13,15,10,5,16,8]\n",
    "arr2 = [1,7,4,9,2,5]\n",
    "solution(arr2)\n"
   ]
  },
  {
   "cell_type": "markdown",
   "metadata": {},
   "source": [
    "send message by chunks"
   ]
  },
  {
   "cell_type": "code",
   "execution_count": null,
   "metadata": {},
   "outputs": [],
   "source": []
  },
  {
   "cell_type": "markdown",
   "metadata": {},
   "source": [
    "array of messages"
   ]
  },
  {
   "cell_type": "code",
   "execution_count": null,
   "metadata": {},
   "outputs": [],
   "source": []
  },
  {
   "cell_type": "markdown",
   "metadata": {},
   "source": [
    "given vector of commands in the form \"cd <directory_name>\" return最终的directory path"
   ]
  },
  {
   "cell_type": "markdown",
   "metadata": {},
   "source": [
    "地里出现过 求在matrix里想构成Y最少需要modify几个cell， Y是一个数组成，background是另一个数"
   ]
  },
  {
   "cell_type": "markdown",
   "metadata": {},
   "source": [
    "第四题 vector of [start_byte_index, end_byte_index], 返回最终有多少个byte\n",
    "EX[[1,1], [2,2], [3,3]] 最终有3个byte; [[1,‍‍‌‌‍‍‍‍‍‌‌‌‌‍‌‍‌‍‍‌3], [2,4], [1,4]] 最终有4个byte, overlap的不算"
   ]
  },
  {
   "cell_type": "markdown",
   "metadata": {},
   "source": [
    "Given a square matrix of integers a  and an array of queries q , your task is to return the given matrix after processing all the queries on it. There are three types of queries:"
   ]
  },
  {
   "cell_type": "code",
   "execution_count": 71,
   "metadata": {},
   "outputs": [
    {
     "name": "stdout",
     "output_type": "stream",
     "text": [
      "[[1, 5, 9, 13, 9], [2, 6, 10, 14, 10], [3, 7, 11, 15, 11], [4, 8, 12, 16, 12], [5, 6, 7, 8, 13]]\n",
      "[[13, 12, 11, 10, 9], [8, 16, 15, 14, 13], [7, 12, 11, 10, 9], [6, 8, 7, 6, 5], [5, 4, 3, 2, 1]]\n"
     ]
    }
   ],
   "source": [
    "# Leetcode 48. Rotate Image (clockwise)\n",
    "class Solution:\n",
    "    def rotate(self, matrix: List[List[int]]) -> None:\n",
    "        \"\"\"\n",
    "        Do not return anything, modify matrix in-place instead.\n",
    "        \"\"\"\n",
    "        n = len(matrix[0])\n",
    "        for i in range(n // 2 + n % 2):\n",
    "            for j in range(n // 2):\n",
    "                tmp = matrix[i][j]\n",
    "                matrix[i][j] = matrix[n-1-j][i]\n",
    "                matrix[n-1-j][i] = matrix[n-1-i][n-1-j]\n",
    "                matrix[n-1-i][n-1-j] = matrix[j][n-1-i]\n",
    "                matrix[j][n-1-i] = tmp\n",
    "        return matrix\n",
    "\n",
    "# reflect matrix in main diagonal\n",
    "def reflect_main_diagonal(matrix):\n",
    "    n = len(matrix[0])\n",
    "    for i in range(n):\n",
    "        for j in range(i+1, n):\n",
    "            tmp = matrix[i][j]\n",
    "            matrix[i][j] = matrix[j][i]\n",
    "            matrix[j][i] = tmp\n",
    "    return matrix\n",
    "\n",
    "\n",
    "# reflect matrix in secondary diagonal\n",
    "def reflect_second_diagonal(matrix):\n",
    "    n = len(matrix[0])\n",
    "    for i in range(n-1):\n",
    "        for j in range(n-i-1):\n",
    "            tmp = matrix[i][j]\n",
    "            matrix[i][j] = matrix[n-j-1][n-i-1]\n",
    "            matrix[n-j-1][n-i-1] = tmp\n",
    "    return matrix\n",
    "\n",
    "matrix = [[1, 2, 3, 4, 5], [5, 6, 7, 8, 6], [9, 10, 11, 12, 7], [13, 14, 15, 16, 8], [9, 10, 11, 12, 13]]\n",
    "print(reflect_main_diagonal(matrix))\n",
    "print(reflect_second_diagonal(matrix))"
   ]
  },
  {
   "cell_type": "markdown",
   "metadata": {},
   "source": [
    "A cyclic shift is the operation of rearranging the digits in a number (in decimal format) by moving some digits at the end of the number to before the beginning of the number, while shifting all other digits to the next position. Given two integers of the same length a and b , a  would be a cyclic pair of b if it's possible for a to become equal to b after performing cyclic shifts on a  - moving 0 or more ending digits to the beginning while shifting all other digits to the next position in the same order."
   ]
  },
  {
   "cell_type": "code",
   "execution_count": 60,
   "metadata": {},
   "outputs": [
    {
     "name": "stdout",
     "output_type": "stream",
     "text": [
      "{}\n",
      "{13: 1}\n",
      "{13: 1, 5604: 1}\n",
      "{13: 2, 5604: 1}\n",
      "{13: 2, 5604: 1, 2: 1}\n",
      "{13: 3, 5604: 1, 2: 1}\n",
      "{13: 3, 5604: 2, 2: 1}\n",
      "{13: 3, 5604: 2, 2: 1, 546: 1}\n",
      "{13: 3, 5604: 2, 2: 1, 546: 2}\n"
     ]
    },
    {
     "data": {
      "text/plain": [
       "5"
      ]
     },
     "execution_count": 60,
     "metadata": {},
     "output_type": "execute_result"
    }
   ],
   "source": [
    "def check(a, b):\n",
    "    a = str(a)\n",
    "    b = str(b)\n",
    "    if len(a) != len(b):\n",
    "        return False\n",
    "    f = False\n",
    "    i = 0\n",
    "    while not f:\n",
    "        i += 1\n",
    "        if i == len(a):\n",
    "            break\n",
    "        tmp = b[-1]\n",
    "        b = tmp + b[:-1]\n",
    "        if b == a:\n",
    "            f = True\n",
    "            break\n",
    "    return True if f else False\n",
    "\n",
    "def cyclic_shift_pairs(a):\n",
    "    d = {}\n",
    "    res = 0\n",
    "    for i in a:\n",
    "        print(d)\n",
    "        if i in d:\n",
    "            res += d[i]\n",
    "            d[i] += 1\n",
    "        else: # i not in d\n",
    "            exist = False\n",
    "            for item in d:\n",
    "                if check(i, item):\n",
    "                    exist = True\n",
    "                    res += d[item]\n",
    "                    d[item] += 1\n",
    "            if not exist:\n",
    "                d[i] = 1         \n",
    "    return res\n",
    "a = [13, 5604, 31, 2, 13, 4560, 546, 654, 456]\n",
    "cyclic_shift_pairs(a)"
   ]
  },
  {
   "cell_type": "code",
   "execution_count": 5,
   "metadata": {},
   "outputs": [
    {
     "name": "stdout",
     "output_type": "stream",
     "text": [
      "res = 1\n",
      "res = 2\n",
      "res = 3\n",
      "res = 4\n",
      "in d res = 5\n",
      "res = 7\n",
      "res = 8\n",
      "res = 9\n",
      "res = 10\n",
      "res = 11\n",
      "{1: 2, 151: 1, 241: 1, 9: 1, 22: 1, 351: 1}\n",
      "11\n"
     ]
    }
   ],
   "source": [
    "# Leetcode 79. Word Search\n",
    "from genericpath import exists\n",
    "\n",
    "\n",
    "def solution(numbers):\n",
    "    def check(i, j):\n",
    "        i = str(i)\n",
    "        j = str(j)\n",
    "        same_count = 0\n",
    "        if len(i) == 1 and len(j) == 1:\n",
    "            return True\n",
    "        if len(i) != len(j):\n",
    "            return False\n",
    "        for s in j:\n",
    "            if s in i:\n",
    "                same_count += 1\n",
    "        diff = len(i) - same_count\n",
    "        return True if diff <= 1 else False\n",
    "\n",
    "    d = {}\n",
    "    res = 0\n",
    "    for number in numbers:\n",
    "        if number in d:\n",
    "            res += d[number]\n",
    "            d[number] += 1\n",
    "            print(\"in d res = \" + str(res))  \n",
    "        else: # number not in d\n",
    "            d[number] = 1\n",
    "            for item in d:\n",
    "                if check(number, item):\n",
    "                    res += d[item]    \n",
    "                    print(\"res = \" + str(res))  \n",
    "    print(d)\n",
    "    return res\n",
    "numbers = [1, 151, 241, 1, 9, 22, 351]\n",
    "#print(solution(numbers))\n"
   ]
  },
  {
   "cell_type": "code",
   "execution_count": null,
   "metadata": {},
   "outputs": [],
   "source": []
  },
  {
   "cell_type": "markdown",
   "metadata": {},
   "source": [
    "A pair of strings form a complementary pair if there is some permutation of their concatenation that is a palindrome. For example, the strings \"abac\" and \"cab\" form a complementary pair since their concatenation is \"abaccab\" which can be rearranged to form a palindrome, ie, \"bcaaacb\"."
   ]
  },
  {
   "cell_type": "code",
   "execution_count": 12,
   "metadata": {},
   "outputs": [
    {
     "data": {
      "text/plain": [
       "3"
      ]
     },
     "execution_count": 12,
     "metadata": {},
     "output_type": "execute_result"
    }
   ],
   "source": [
    "# Complementary Pairs\n",
    "\n",
    "from collections import Counter\n",
    "\n",
    "\n",
    "def check(i, j):\n",
    "    s = i+j\n",
    "    count = Counter(s)\n",
    "    c = 0\n",
    "    for cnt in count:\n",
    "        if count[cnt] % 2 == 1:\n",
    "            c += 1\n",
    "        if c > 1:\n",
    "            return False\n",
    "    return True\n",
    "    \n",
    "def solution(arr):\n",
    "    d = {}\n",
    "    res = 0\n",
    "    for i in arr:\n",
    "        if i in d:\n",
    "            res += d[i]\n",
    "            d[i] += 1\n",
    "        else: # i not in d\n",
    "            exist = False\n",
    "            for item in d:\n",
    "                if check(i, item):\n",
    "                    exist = True\n",
    "                    res += d[item]\n",
    "                    d[item] += 1\n",
    "            if not exist:\n",
    "                d[i] = 1         \n",
    "    return res\n",
    "solution([\"abc\", \"abcd\", \"bc\", \"adc\"])"
   ]
  },
  {
   "cell_type": "code",
   "execution_count": 34,
   "metadata": {},
   "outputs": [],
   "source": [
    "hash_map = {}\n",
    "res = 0\n",
    "words = [\"abac\", \"cab\"]\n",
    "for word in words:\n",
    "    bitmask = 0\n",
    "    for c in word:\n",
    "        bitmask ^= (1 << (ord(c)-ord('a')))\n",
    "        if bitmask in hash_map:\n",
    "            res += hash_map[bitmask]\n",
    "            hash_map[bitmask] += 1\n"
   ]
  },
  {
   "cell_type": "code",
   "execution_count": 20,
   "metadata": {},
   "outputs": [],
   "source": [
    "# a:(1 << (ord(\"a\")-ord('a'))) output--> 1\n",
    "# b:(1 << (ord(\"b\")-ord('a'))) output--> 2\n",
    "# c:(1 << (ord(\"b\")-ord('a'))) output--> 4"
   ]
  },
  {
   "cell_type": "code",
   "execution_count": 22,
   "metadata": {},
   "outputs": [
    {
     "data": {
      "text/plain": [
       "4"
      ]
     },
     "execution_count": 22,
     "metadata": {},
     "output_type": "execute_result"
    }
   ],
   "source": [
    "1 << (ord(\"c\")-ord('a'))"
   ]
  },
  {
   "cell_type": "code",
   "execution_count": 32,
   "metadata": {},
   "outputs": [
    {
     "data": {
      "text/plain": [
       "3"
      ]
     },
     "execution_count": 32,
     "metadata": {},
     "output_type": "execute_result"
    }
   ],
   "source": [
    "# one function method (using ^=)\n",
    "alpha = \"abcdefghijklmnopqrstuvwxyz\"\n",
    "def check(words):\n",
    "    hash_map = {}\n",
    "    res = 0\n",
    "    for word in words:\n",
    "        bitmask = 0\n",
    "        for c in word:\n",
    "            bitmask ^= (1<<(ord(c)-ord('a')))\n",
    "        if bitmask in hash_map:\n",
    "            res += hash_map[bitmask]\n",
    "            hash_map[bitmask] += 1\n",
    "        else:\n",
    "            hash_map[bitmask] = 1\n",
    "        tmp = bitmask\n",
    "        for a in alpha:\n",
    "            tmp ^= (1<<(ord(a)-ord('a')))\n",
    "            if tmp in hash_map:\n",
    "                res += hash_map[tmp]\n",
    "            tmp = bitmask\n",
    "    return res\n",
    "check([\"abc\", \"abcd\", \"bc\", \"adc\"])\n"
   ]
  },
  {
   "cell_type": "markdown",
   "metadata": {},
   "source": [
    "### Maximum Score"
   ]
  },
  {
   "cell_type": "markdown",
   "metadata": {},
   "source": [
    "There are several books placed in the HackerStudy library. One of those books on mathematics described an interesting problem that a  mathematician wishes to solve."
   ]
  },
  {
   "cell_type": "code",
   "execution_count": 37,
   "metadata": {},
   "outputs": [
    {
     "name": "stdout",
     "output_type": "stream",
     "text": [
      "[0, 1, 3, 4]\n"
     ]
    }
   ],
   "source": [
    "import heapq\n",
    "arr = [4, 6, -10, -1, 10, -20]\n",
    "def solution(arr, k):\n",
    "    output = []\n",
    "    minh = []\n",
    "    heapq.heapify(minh)\n",
    "    for index in range(len(arr)):\n",
    "        heapq.heappush(minh, (-arr[index], index))\n",
    "    while k > 0:\n",
    "        pair = heapq.heappop(minh)\n",
    "        output.append(pair[1])\n",
    "        k -= 1\n",
    "    output.sort()\n",
    "    return output\n",
    "print(solution(arr, 4))"
   ]
  },
  {
   "cell_type": "markdown",
   "metadata": {},
   "source": [
    "### Binary Game"
   ]
  },
  {
   "cell_type": "markdown",
   "metadata": {},
   "source": [
    "A binary string is a string consisting only of digits 0 and 1. A binary string is said to be good if: The digit 1 only appears in groups of size one group, if it appears at all. For example, for one group =2,\"011110110\" satisfies this condition while \"01101010\" does not. The digit 0 only appears in groups of size zero_group, if it appears at all. For example, for zero_group = 3, \"11\" satisfies this condition while \"101010\" does not."
   ]
  },
  {
   "cell_type": "code",
   "execution_count": null,
   "metadata": {},
   "outputs": [],
   "source": [
    "arr = \"1011001011\"\n",
    "zero_group = 1\n",
    "one_group = 2\n",
    "\n",
    "def solution(arr,max_length, min_length, zero_group, one_group):\n",
    "    arr = arr[min_length: max_length]\n",
    "    dp = [0] * len(arr)\n",
    "    min_index = min(zero_group, one_group)\n",
    "    max_index = max(zero_group, one_group)\n",
    "    prev = arr[0]\n",
    "    for i in range(len(arr)):\n",
    "        if i < min_index:\n",
    "            continue\n",
    "        elif i == zero_group or i == one_group:\n",
    "            \n",
    "    return"
   ]
  },
  {
   "cell_type": "markdown",
   "metadata": {},
   "source": [
    "### Does a path exist?\n"
   ]
  },
  {
   "cell_type": "markdown",
   "metadata": {},
   "source": [
    "There is a bot located at a pair of integer coordinates, (x, y). It must be moved to a location with another set of coordinates. Though the bot can move any number of times, it can only make the following three types of moves: 1. From location (x, y) to location (x +y, y). 2. From location (x, y) to location (x, x +y). 3. For a specified positive constant C, it can move from location (x, y) to location (x +C, y + C)."
   ]
  },
  {
   "cell_type": "markdown",
   "metadata": {},
   "source": [
    "In addition, there are obstacles on the plane which prevent the bot from occupying certain cells. These cells cannot be included in the  path. These obstacles exist at locations where the sum of the coordinates are a perfect square (i.e, the square root of the sum is an integer). For example, the (X,y) location (2,7) is not allowed because 2+ 7 = 9 and 9 = 3^2."
   ]
  },
  {
   "cell_type": "markdown",
   "metadata": {},
   "source": [
    "For example, using c= 1 and a starting position of (2, 1), it might make the following sequence of moves: (2,1)- (3,2)- (3, 5). Note that movement will always be up, to the right, or both up and right."
   ]
  },
  {
   "cell_type": "code",
   "execution_count": 69,
   "metadata": {},
   "outputs": [
    {
     "name": "stdout",
     "output_type": "stream",
     "text": [
      "Yes\n",
      "Yes\n"
     ]
    }
   ],
   "source": [
    "import math\n",
    "\n",
    "def canReach(c, x1, y1, x2, y2):\n",
    "    visited = set()\n",
    "    def helper(c, x1, y1, x2, y2):\n",
    "        if x1 > x2 or y1 > y2:\n",
    "            return False\n",
    "        # judge if the point is an obstacles\n",
    "        if (x1,y1) in visited:\n",
    "            return False\n",
    "        visited.add((x1,y1))\n",
    "        if (x1 == x2 and y1 == y2) and not (math.sqrt(x1+y1).is_integer()):\n",
    "            return True\n",
    "        elif helper(c, x1 + y1, y1, x2, y2) or helper(c, x1, x1 + y1, x2, y2) or helper(c, x1 + c, y1 + c, x2, y2):\n",
    "            return True\n",
    "\n",
    "    output = \"\"\n",
    "    if helper(c, x1, y1, x2, y2):\n",
    "        output = \"Yes\"\n",
    "    else:\n",
    "        output = \"No\"\n",
    "    return output\n",
    "\n",
    "print(canReach(1,1,4,7,6))\n",
    "print(canReach(2,1,1,5,5))\n"
   ]
  },
  {
   "cell_type": "code",
   "execution_count": 67,
   "metadata": {},
   "outputs": [
    {
     "name": "stdout",
     "output_type": "stream",
     "text": [
      "Yes\n",
      "Yes\n"
     ]
    }
   ],
   "source": [
    "def canReach(c,x1,y1,x2,y2):\n",
    "    \n",
    "    def ifPerfectSquare(x,y):\n",
    "        squareRoot = math.sqrt(x+y)\n",
    "        if squareRoot.is_integer():\n",
    "            return True\n",
    "        return False\n",
    "    visited = set()\n",
    "\n",
    "    def dfs(x,y):\n",
    "        if x == x2 and y == y2:\n",
    "            return True\n",
    "\n",
    "        if (x,y) in visited:\n",
    "            return False\n",
    "        \n",
    "        if x > x2 or y > y2:\n",
    "            return False\n",
    "\n",
    "        if ifPerfectSquare(x,y):\n",
    "            return False\n",
    "\n",
    "        visited.add((x,y))\n",
    "\n",
    "        return dfs(x,y+x) or dfs(x+y,y) or dfs(x+c,y+c)\n",
    "        \n",
    "    if (x1 > x2) or (y1 > y2) or ifPerfectSquare(x1,y1) or ifPerfectSquare(x2,y2):\n",
    "        return \"No\"\n",
    "    if dfs(x1,y1):\n",
    "        return \"Yes\"\n",
    "    else:\n",
    "        return \"No\"\n",
    "\n",
    "print(canReach(1,1,4,7,6))\n",
    "print(canReach(2,1,1,5,5))\n"
   ]
  },
  {
   "cell_type": "code",
   "execution_count": null,
   "metadata": {},
   "outputs": [],
   "source": [
    "import math\n",
    "def canReach(c, x1, y1, x2, y2):\n",
    "    # memory. -1 not reachable. 1 reachable\n",
    "    dp = {}\n",
    "\n",
    "    def gonext(x, y):\n",
    "        # reuse memory\n",
    "        if (x, y) in dp:\n",
    "            return dp[(x, y)]\n",
    "        # overshoot\n",
    "        if x > x2 or y > y2:\n",
    "            dp[(x, y)] = -1\n",
    "            return dp[(x, y)]\n",
    "        # blocked\n",
    "        if math.isqrt(x + y) ** 2 == (x + y):\n",
    "            dp[(x, y)] = -1\n",
    "            return dp[(x, y)]\n",
    "        # reach target\n",
    "        if x == x2 and y == y2:\n",
    "            dp[(x, y)] = 1\n",
    "            return dp[(x, y)]\n",
    "\n",
    "        # go right\n",
    "        if gonext(x + y, y) == 1:\n",
    "            dp[(x, y)] = 1\n",
    "            return dp[(x, y)]\n",
    "        # go upper\n",
    "        if gonext(x, x + y) == 1:\n",
    "            dp[(x, y)] = 1\n",
    "            return dp[(x, y)]\n",
    "        # go upper right\n",
    "        if gonext(x + c, y + c) == 1:\n",
    "            dp[(x, y)] = 1\n",
    "            return dp[(x, y)]\n",
    "\n",
    "        dp[(x, y)] = -1\n",
    "        return dp[(x, y)]\n",
    "    gonext(x1, y1)\n",
    "    if (x2, y2) in dp and dp[(x2, y2)] == 1:\n",
    "        return \"Yes\"\n",
    "    return \"No\"\n",
    "\n",
    "\n",
    "if __name__ == '__main__':\n",
    "    print(canReach(1, 1, 4, 7, 6))\n"
   ]
  },
  {
   "cell_type": "code",
   "execution_count": null,
   "metadata": {},
   "outputs": [],
   "source": [
    "# 1197\n",
    "# 1381"
   ]
  },
  {
   "cell_type": "markdown",
   "metadata": {},
   "source": [
    "### Busy Intersection"
   ]
  },
  {
   "cell_type": "markdown",
   "metadata": {},
   "source": [
    "There is a busy intersection between two one- way streets: Main Street and 1st Avenue. Cars passing through the intersection can only pass through one at a time. When multiple cars arrive at the intersection at the same time, two queues can build up -- one for each street. Cars are added to the queue in the order at which they arrive. Unfortunately, there is no traffic light to help control traffic when multiple cars arrive at the same time. So, the local residents have devised their own system for determining which car has priority to pass through the intersection:"
   ]
  },
  {
   "cell_type": "code",
   "execution_count": 72,
   "metadata": {},
   "outputs": [
    {
     "name": "stdout",
     "output_type": "stream",
     "text": [
      "[2, 0, 1, 4]\n",
      "[1, 0, 100000000]\n",
      "[0, 2, 1, 4, 3]\n"
     ]
    }
   ],
   "source": [
    "from collections import deque\n",
    "\n",
    "def getResult(arrival, street):\n",
    "    q0 = deque()\n",
    "    q1 = deque()\n",
    "    currTime = 0\n",
    "    prev = None\n",
    "    ans = [0] * len(arrival)\n",
    "    i = 0\n",
    "    while i <len(arrival):\n",
    "        while i <len(arrival) and arrival[i] == currTime:\n",
    "            if street[i] == 0:\n",
    "                q0.append(i)\n",
    "            else:\n",
    "                q1.append(i)\n",
    "            i += 1\n",
    "        if q0 or q1:\n",
    "            if prev != 0:\n",
    "                if q1:\n",
    "                    idx = q1.popleft()\n",
    "                    ans[idx] = currTime\n",
    "                    prev = 1\n",
    "                    currTime += 1\n",
    "                elif q0:\n",
    "                    idx = q0.popleft()\n",
    "                    ans[idx] = currTime\n",
    "                    prev = 0\n",
    "                    currTime += 1\n",
    "            else:\n",
    "                if q0:\n",
    "                    idx = q0.popleft()\n",
    "                    ans[idx] = currTime\n",
    "                    prev = 0\n",
    "                    currTime += 1\n",
    "                elif q1:\n",
    "                    idx = q1.popleft()\n",
    "                    ans[idx] = currTime\n",
    "                    prev = 1\n",
    "                    currTime += 1\n",
    "        else:\n",
    "            prev = None\n",
    "            currTime = arrival[i]\n",
    "\n",
    "    while q0 or q1:\n",
    "        if prev != 0:\n",
    "            if q1:\n",
    "                idx = q1.popleft()\n",
    "                ans[idx] = currTime\n",
    "                prev = 1\n",
    "                currTime += 1\n",
    "            elif q0:\n",
    "                idx = q0.popleft()\n",
    "                ans[idx] = currTime\n",
    "                prev = 0\n",
    "                currTime += 1\n",
    "        else:\n",
    "            if q0:\n",
    "                idx = q0.popleft()\n",
    "                ans[idx] = currTime\n",
    "                prev = 0\n",
    "                currTime += 1\n",
    "            elif q1:\n",
    "                idx = q1.popleft()\n",
    "                ans[idx] = currTime\n",
    "                prev = 1\n",
    "                currTime += 1\n",
    "    return ans\n",
    "print(getResult([0,0,1,4],[0,1,1,0]))\n",
    "print(getResult([0,0,10**8],[0,1,1]))\n",
    "print(getResult([0,1,1,3,3],[0,1,0,0,1]))"
   ]
  },
  {
   "cell_type": "code",
   "execution_count": 65,
   "metadata": {},
   "outputs": [
    {
     "name": "stdout",
     "output_type": "stream",
     "text": [
      "[2, 0, 1, 4]\n",
      "[1, 0, 100000000]\n",
      "[0, 2, 1, 4, 3]\n"
     ]
    }
   ],
   "source": [
    "import collections\n",
    "def getResult(arrival, street):\n",
    "    # car waiting queue\n",
    "    q_main = collections.deque()\n",
    "    q_ave = collections.deque()\n",
    "\n",
    "    time = 0\n",
    "    res = [0] * len(arrival)\n",
    "\n",
    "    # init queue\n",
    "    for i, s in enumerate(street):\n",
    "        if s == 1:\n",
    "            # ave car\n",
    "            q_ave.append((i, arrival[i]))\n",
    "        else:\n",
    "            # main car\n",
    "            q_main.append((i, arrival[i]))\n",
    "\n",
    "    while q_main or q_ave:\n",
    "        # 1st Avenue queue\n",
    "        while q_ave:\n",
    "            # ave car is waiting\n",
    "            if q_ave[0][1] <= time:\n",
    "                ave = q_ave.popleft()\n",
    "                res[ave[0]] = time\n",
    "                time += 1\n",
    "            else:\n",
    "                # no ave car is waiting\n",
    "                break\n",
    "\n",
    "        # Main St queue\n",
    "        while q_main:\n",
    "            # main car is waiting\n",
    "            if q_main[0][1] <= time:\n",
    "                main = q_main.popleft()\n",
    "                res[main[0]] = time\n",
    "                time += 1\n",
    "            else:\n",
    "                # no main car is waiting\n",
    "                break\n",
    "\n",
    "        min_time = None\n",
    "        if q_ave:\n",
    "            min_time = q_ave[0][1]\n",
    "        if q_main:\n",
    "            min_time = min(q_main[0][1], min_time) if min_time else q_main[0][1]\n",
    "        # skip empty time span\n",
    "        if min_time and min_time > time:\n",
    "            time = min_time\n",
    "    return res\n",
    "print(getResult([0,0,1,4],[0,1,1,0]))\n",
    "print(getResult([0,0,10**8],[0,1,1]))\n",
    "print(getResult([0,1,1,3,3],[0,1,0,0,1]))"
   ]
  },
  {
   "cell_type": "markdown",
   "metadata": {},
   "source": [
    "### Days Between Two Dates"
   ]
  },
  {
   "cell_type": "code",
   "execution_count": 7,
   "metadata": {},
   "outputs": [
    {
     "name": "stdout",
     "output_type": "stream",
     "text": [
      "58\n",
      "60\n",
      "366\n",
      "585\n",
      "36523\n"
     ]
    }
   ],
   "source": [
    "# Leetcode 1360. Number of Days Between Two Dates\n",
    "# Criteria for determining leap years\n",
    "\n",
    "def daysBetweenDates(date1: str, date2: str) -> int:\n",
    "    def calDate(date):\n",
    "        year, month, day = date.split(\"-\")\n",
    "        year0 = 1899\n",
    "        \n",
    "        days = 0\n",
    "        for y in range(int(year0),int(year)):\n",
    "            days += 365\n",
    "            if y % 400 == 0:\n",
    "                days += 1\n",
    "            elif y % 4 == 0 and y % 100 != 0: \n",
    "                days += 1\n",
    "                    \n",
    "        for m in range(int(month)):\n",
    "            if m in [1, 3, 5, 7, 8, 10, 12]:\n",
    "                days += 31\n",
    "            if m in [4, 6, 9, 11]:\n",
    "                days += 30\n",
    "            if m == 2:\n",
    "                days += 28\n",
    "                if int(year) % 400 == 0:\n",
    "                    days += 1\n",
    "                elif int(year) % 4 == 0 and int(year) % 100 != 0: \n",
    "                    days += 1\n",
    "        days += int(day)\n",
    "        return days\n",
    "    return abs(calDate(date1) - calDate(date2))\n",
    "print(daysBetweenDates(\"2012-1-1\", \"2012-2-28\"))\n",
    "# 58\n",
    "print(daysBetweenDates(\"2012-1-1\",\"2012-3-1\")) \n",
    "# 60\n",
    "print(daysBetweenDates(\"2011-6-30\",\"2012-6-30\"))\n",
    "# 366\n",
    "print(daysBetweenDates(\"2011-1-1\",\"2012-8-8\"))\n",
    "# 585\n",
    "print(daysBetweenDates(\"1900-1-1\",\"1999-12-31\"))\n",
    "# 36523"
   ]
  },
  {
   "cell_type": "code",
   "execution_count": 1,
   "metadata": {},
   "outputs": [
    {
     "name": "stdout",
     "output_type": "stream",
     "text": [
      "58\n",
      "60\n",
      "366\n",
      "585\n",
      "36523\n"
     ]
    }
   ],
   "source": [
    "# If provide DaysInMonth(month, year) function \n",
    "\n",
    "def isLeapYear(year):\n",
    "    if year % 4 == 0:\n",
    "        if year % 100 == 0 and year % 400 != 0:\n",
    "            return False\n",
    "        else:\n",
    "            return True\n",
    "    else:\n",
    "        return False\n",
    "\n",
    "def daysInMonth(month, year):\n",
    "    while month in [1, 3, 5, 7, 8, 10, 12]:\n",
    "        return 31\n",
    "    while month in (4, 6, 9, 11):\n",
    "         return 30\n",
    "    if month == 2:\n",
    "         if isLeapYear(year):\n",
    "             return 29\n",
    "         else:\n",
    "             return 28\n",
    "\n",
    "def daysBetweenDates(year1, month1, day1, year2, month2, day2):\n",
    "    days = 0\n",
    "    while year1 < year2:\n",
    "        if day1 != 1:\n",
    "            days = days + daysInMonth(month1,year1)-day1+1\n",
    "            day1 = 1\n",
    "            month1 +=1\n",
    "        while month1 < 13:\n",
    "            days = days + daysInMonth(month1,year1)\n",
    "            month1 += 1\n",
    "        if month1 == 13:\n",
    "            month1 = 1\n",
    "            year1 += 1\n",
    "    if year1 == year2:\n",
    "        if day1 != 1:\n",
    "            days = days + daysInMonth(month1,year1)-day1+1\n",
    "            day1 = 1\n",
    "            month1 += 1\n",
    "        while month1 < month2:\n",
    "            days = days+daysInMonth(month1, year1)\n",
    "            month1 += 1\n",
    "        if month1 == month2:\n",
    "            days = days + day2 - day1\n",
    "    return days\n",
    "\n",
    "print(daysBetweenDates(2012,1,1,2012,2,28))\n",
    "# 58\n",
    "print(daysBetweenDates(2012,1,1,2012,3,1)) \n",
    "# 60\n",
    "print(daysBetweenDates(2011,6,30,2012,6,30))\n",
    "# 366\n",
    "print(daysBetweenDates(2011,1,1,2012,8,8))\n",
    "# 585\n",
    "print(daysBetweenDates(1900,1,1,1999,12,31))\n",
    "# 36523\n"
   ]
  },
  {
   "cell_type": "markdown",
   "metadata": {},
   "source": [
    "### Parent-child pair"
   ]
  },
  {
   "cell_type": "markdown",
   "metadata": {},
   "source": [
    "You are given a binary tree written as a sequence of parent-child pairs. You need to detect any errors which prevent the sequence from being a proper binary tree and print the highest priority error. If you detect no errors, print out the lexicographically smallest S-expression for the tree."
   ]
  },
  {
   "cell_type": "code",
   "execution_count": null,
   "metadata": {},
   "outputs": [],
   "source": [
    "from collections import deque\n",
    "\n",
    "input = \"(A,B) (B,D) (D,E) (A,C) (C,F) (E,G)\"\n",
    "\n",
    "def validOrNot(input):\n",
    "    tree = {}\n",
    "    inputs = input.split(\" \")\n",
    "    nodes = \"ABCDEFGHIJKLMNOPQRSTUVWXYZ\"\n",
    "    pairs = set()\n",
    "    more_than_two = False\n",
    "    DuplicatePair = False\n",
    "    degrees = [0] * 26\n",
    "    for i in inputs:\n",
    "        if len(i) != 5 or i[0] != \"(\" or i[4] != \")\" or i[2] != \",\" or i[1] not in nodes or i[3] not in nodes:\n",
    "            print(\"E1\")\n",
    "            return\n",
    "        if i in pairs:\n",
    "            DuplicatePair = True\n",
    "        else:\n",
    "            pairs.add(i)\n",
    "        if DuplicatePair:\n",
    "            print(\"E2\")\n",
    "            return\n",
    "        parent = i[1]\n",
    "        child = i[3]\n",
    "        children = list(tree[parent])\n",
    "        children.append(child)\n",
    "        if len(children) > 2:\n",
    "            more_than_two = True\n",
    "        if more_than_two:\n",
    "            print(\"E3\")\n",
    "            return\n",
    "        tree[parent] = children\n",
    "        degrees[ord(child) - ord(\"A\")] += 1\n",
    "        if degrees[ord(child) - ord(\"A\")] > 1:\n",
    "            print(\"E4\")\n",
    "            return\n",
    "    q = deque()\n",
    "    for i in range(26):\n",
    "        c = chr(i+ord(\"A\"))\n",
    "        if degrees[c] == 0 and c in tree:\n",
    "            q.append(c)\n",
    "    if len(q) > 1:\n",
    "        print(\"E4\")\n",
    "        return\n",
    "    if len(q) == 0:\n",
    "        print(\"E5\")\n",
    "        return\n",
    "    root = q.popleft()\n",
    "    if not dfs(root, visited, tree):\n",
    "        print(\"E5\")\n",
    "    print(from(root, tree))\n",
    "\n",
    "    \n",
    "        \n",
    "\n",
    "    "
   ]
  },
  {
   "cell_type": "code",
   "execution_count": 2,
   "metadata": {},
   "outputs": [
    {
     "data": {
      "text/plain": [
       "'A'"
      ]
     },
     "execution_count": 2,
     "metadata": {},
     "output_type": "execute_result"
    }
   ],
   "source": [
    "chr(65)"
   ]
  },
  {
   "cell_type": "code",
   "execution_count": null,
   "metadata": {},
   "outputs": [],
   "source": []
  }
 ],
 "metadata": {
  "kernelspec": {
   "display_name": "Python 3.9.12 ('base')",
   "language": "python",
   "name": "python3"
  },
  "language_info": {
   "codemirror_mode": {
    "name": "ipython",
    "version": 3
   },
   "file_extension": ".py",
   "mimetype": "text/x-python",
   "name": "python",
   "nbconvert_exporter": "python",
   "pygments_lexer": "ipython3",
   "version": "3.9.12"
  },
  "orig_nbformat": 4,
  "vscode": {
   "interpreter": {
    "hash": "40d3a090f54c6569ab1632332b64b2c03c39dcf918b08424e98f38b5ae0af88f"
   }
  }
 },
 "nbformat": 4,
 "nbformat_minor": 2
}
