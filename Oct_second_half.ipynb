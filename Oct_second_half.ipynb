{
 "cells": [
  {
   "cell_type": "markdown",
   "metadata": {},
   "source": [
    "### HackerRank"
   ]
  },
  {
   "cell_type": "code",
   "execution_count": 12,
   "metadata": {},
   "outputs": [
    {
     "name": "stdout",
     "output_type": "stream",
     "text": [
      "2\n"
     ]
    }
   ],
   "source": [
    "# selling product\n",
    "import heapq\n",
    "n = 10\n",
    "ids = [3, 2, 4, 5, 5, 6, 6]\n",
    "m = 4\n",
    "#(number, id)\n",
    "def remove(n, ids, m):\n",
    "    d = {}\n",
    "    h = []\n",
    "    heapq.heapify(h)\n",
    "    for i in ids:\n",
    "        if i not in d:\n",
    "            d[i] = 1\n",
    "        else:\n",
    "            d[i] += 1\n",
    "    for key in d:\n",
    "        heapq.heappush(h, (d[key], key))\n",
    "    while m > 0:\n",
    "        item = heapq.heappop(h)\n",
    "        num = item[0]\n",
    "        id = item[1]\n",
    "        m -= num\n",
    "    return len(h) + 1 if m < 0 else len(h)\n",
    "print(remove(n, ids, m))"
   ]
  },
  {
   "cell_type": "code",
   "execution_count": 18,
   "metadata": {},
   "outputs": [
    {
     "name": "stdout",
     "output_type": "stream",
     "text": [
      "defaultdict(<class 'int'>, {0: 1, 1: 2})\n",
      "2\n"
     ]
    }
   ],
   "source": [
    "# Bitwise XOR Subsequences\n",
    "from collections import defaultdict\n",
    "def longestSubsequence(s, k):\n",
    "    dp = defaultdict(int)\n",
    "\n",
    "    for i in s:\n",
    "        newval = 0\n",
    "        for prev in dp:\n",
    "            if (prev ^ i == k):\n",
    "                newval = max(newval, dp[prev])\n",
    "        dp[newval] = newval+1\n",
    "    \n",
    "    return max(dp.values())\n",
    "s = [2, 1, 3, 5, 2]\n",
    "k = 2\n",
    "print(longestSubsequence(s, k))"
   ]
  },
  {
   "cell_type": "code",
   "execution_count": 24,
   "metadata": {},
   "outputs": [
    {
     "name": "stdout",
     "output_type": "stream",
     "text": [
      "[1, 1, 2, 1, 1]\n",
      "2\n"
     ]
    }
   ],
   "source": [
    "def longestSubsequence(s, k):\n",
    "    n = len(s)\n",
    "    dp = [1]*n\n",
    "    for i in range(1, n):\n",
    "        for j in range(i):\n",
    "            if s[i]^s[j] == k:\n",
    "                dp[i] = max(dp[i], dp[j]+1)\n",
    "                print(dp)\n",
    "    return max(dp)\n",
    "s = [2, 1, 3, 5, 2]\n",
    "k = 2\n",
    "print(longestSubsequence(s, k))"
   ]
  },
  {
   "cell_type": "code",
   "execution_count": 1,
   "metadata": {},
   "outputs": [
    {
     "name": "stdout",
     "output_type": "stream",
     "text": [
      "[18.42666667 19.8152381 ]\n"
     ]
    }
   ],
   "source": [
    "# necessary import libraries\n",
    "import datetime\n",
    "import numpy as np\n",
    "from sklearn.linear_model import LinearRegression\n",
    "\n",
    "# utility function\n",
    "def predictMissingHumidity(startDate, endDate, knownTimestamps, humidity, timestamps):\n",
    "    x = [int(abs((datetime.datetime.utcfromtimestamp(0) - datetime.datetime.strptime(item,\"%Y-%m-%d %H:%M\")).total_seconds())) for item in knownTimestamps]\n",
    "    y = humidity\n",
    "\n",
    "    lm = LinearRegression()\n",
    "    lm.fit(np.array(x).reshape(-1,1),y)\n",
    "\n",
    "    z = [int(abs((datetime.datetime.utcfromtimestamp(0) - datetime.datetime.strptime(item,\"%Y-%m-%d %H:%M\")).total_seconds())) for item in timestamps]\n",
    "    return lm.predict(np.array(z).reshape(-1,1))\n",
    "\n",
    "# dummy inputs\n",
    "startDate = '2013-01-01'\n",
    "endDate = '2013-01-01'\n",
    "knownTimestamps = ['2013-01-01 07:00', '2013-01-01 08:00', '2013-01-01 09:00', '2013-01-01 10:00',\n",
    "                      '2013-01-01 11:00', '2013-01-01 12:00']\n",
    "humidity = [10.0, 11.1, 13.2, 14.8, 15.6, 16.7]\n",
    "timestamps= ['2013-01-01 13:00', '2013-01-01 14:00']\n",
    "\n",
    "# call the utility function\n",
    "answer = predictMissingHumidity(startDate, endDate, knownTimestamps, humidity, timestamps)\n",
    "print(answer)"
   ]
  },
  {
   "cell_type": "markdown",
   "metadata": {},
   "source": [
    "### Dynamic programming"
   ]
  },
  {
   "cell_type": "code",
   "execution_count": null,
   "metadata": {},
   "outputs": [],
   "source": [
    "# Leetcode 646. Maximum Length of Pair Chain\n",
    "\n",
    "class Solution:\n",
    "    def findLongestChain(self, pairs: List[List[int]]) -> int:\n",
    "        # pairs = [[1,2],[7,8],[4,5]]\n",
    "        # pairs.sort()\n",
    "        # pairs = [[1, 2], [4, 5], [7, 8]]\n",
    "        pairs.sort()\n",
    "        n = len(pairs)\n",
    "        dp = [1]*n\n",
    "        for i in range(n):\n",
    "            for j in range(i):\n",
    "                if pairs[i][0] > pairs[j][1]:\n",
    "                    dp[i] = max(dp[i], dp[j]+1)\n",
    "        return max(dp)"
   ]
  },
  {
   "cell_type": "code",
   "execution_count": null,
   "metadata": {},
   "outputs": [],
   "source": [
    "# Leetcode 300. Longest Increasing Subsequence\n",
    "\n",
    "class Solution:\n",
    "    def lengthOfLIS(self, nums: List[int]) -> int:\n",
    "        n = len(nums)\n",
    "        dp = [1]*n\n",
    "        for i in range(n):\n",
    "            for j in range(i):\n",
    "                if nums[i] > nums[j]:\n",
    "                    dp[i] = max(dp[i], dp[j]+1)\n",
    "        return max(dp)\n"
   ]
  },
  {
   "cell_type": "code",
   "execution_count": null,
   "metadata": {},
   "outputs": [],
   "source": [
    "# Leetcode 2370. Longest Ideal Subsequence\n",
    "\n",
    "class Solution:\n",
    "    def longestIdealString(self, s: str, k: int) -> int:\n",
    "        dp = collections.defaultdict(int)\n",
    "        for ch in s:\n",
    "            newval = 0\n",
    "            for prev in dp:\n",
    "                if abs(ord(ch)-ord(prev)) <= k:\n",
    "                    newval = max(newval, dp[prev])\n",
    "            dp[ch] = newval + 1\n",
    "        return max(dp.values())"
   ]
  },
  {
   "cell_type": "markdown",
   "metadata": {},
   "source": [
    "### Backtracking"
   ]
  },
  {
   "cell_type": "code",
   "execution_count": null,
   "metadata": {},
   "outputs": [],
   "source": [
    "# https://leetcode.com/problems/subsets/discuss/27281/A-general-approach-to-backtracking-questions-in-Java-(Subsets-Permutations-Combination-Sum-Palindrome-Partitioning)"
   ]
  },
  {
   "cell_type": "code",
   "execution_count": 2,
   "metadata": {},
   "outputs": [
    {
     "data": {
      "text/plain": [
       "[253, 234, 454]"
      ]
     },
     "execution_count": 2,
     "metadata": {},
     "output_type": "execute_result"
    }
   ],
   "source": [
    "# Leetcode 78. Subsets\n",
    "class Solution:\n",
    "    def subsets(self, nums: List[int]) -> List[List[int]]:\n",
    "        if not nums:\n",
    "            return []\n",
    "        if nums == []:\n",
    "            return [[]]\n",
    "        res=[]\n",
    "        \n",
    "        def helper(nums,tmp,res,i):\n",
    "            if i == len(nums):\n",
    "                res.append(tmp[:])\n",
    "                return \n",
    "            helper(nums,tmp,res,i+1)\n",
    "            tmp.append(nums[i])\n",
    "            helper(nums,tmp,res,i+1)\n",
    "            tmp.remove(tmp[-1])\n",
    "        \n",
    "        helper(nums, [], res, 0)\n",
    "        return res\n",
    "\n"
   ]
  },
  {
   "cell_type": "markdown",
   "metadata": {},
   "source": [
    "### eBay prepare"
   ]
  },
  {
   "cell_type": "markdown",
   "metadata": {},
   "source": [
    "设计Hashmap，含insert, get, addToKey, addToValue四种操作，回传get总和\n",
    "For queryType = [\"insert\", \"insert\", \"addToValue\", \"addToKey\", \"get\"] and \n",
    "query = [[1, 2], [2, 3], [2], [1], [3]], \n",
    "the output should be hashMap(queryType, query) = 5. \n",
    "The hashmap looks like this after each query:\n",
    "1 query: {1: 2}\n",
    "2 query: {1: 2, 2: 3}\n",
    "3 query: {1: 4, 2: 5}\n",
    "4 query: {2: 4, 3: 5}\n",
    "5 query: answer is 5\n",
    "The result of the last get query for 3 is 5 in the resulting hashmap."
   ]
  },
  {
   "cell_type": "code",
   "execution_count": 6,
   "metadata": {},
   "outputs": [
    {
     "name": "stdout",
     "output_type": "stream",
     "text": [
      "{1: 1}\n",
      "insert\n",
      "{1: 1}\n",
      "addToKey\n",
      "{1: 1, -1: 2}\n",
      "insert\n",
      "{1: 1, -1: 2}\n",
      "addToValue\n",
      "{1: 1, -1: 2}\n",
      "get\n",
      "5\n"
     ]
    }
   ],
   "source": [
    "def design_hashmap(queryType, query):     \n",
    "    res = 0     \n",
    "    memo = dict()      \n",
    "    extra_key = extra_value = 0     \n",
    "    for s, values in zip(queryType, query):         \n",
    "        if s == \"insert\":             \n",
    "            key, val = values             \n",
    "            memo[key-extra_key] = val - extra_value   \n",
    "            print(memo)    \n",
    "            print(\"insert\")   \n",
    "        elif s == \"addToKey\":             \n",
    "            key = values[0]             \n",
    "            extra_key += key  \n",
    "            print(memo) \n",
    "            print(\"addToKey\")       \n",
    "        elif s == \"addToValue\":             \n",
    "            val = values[0]             \n",
    "            extra_value += val  \n",
    "            print(memo)    \n",
    "            print(\"addToValue\")            \n",
    "        else: # get\n",
    "            key = values[0]             \n",
    "            res += memo[key - extra_key] + extra_value \n",
    "            print(memo)  \n",
    "            print(\"get\")   \n",
    "            return res  \n",
    "            \n",
    "            \n",
    "queryType = [\"insert\", \"addToKey\", \"insert\", \"addToValue\", \"get\", \"get\"] \n",
    "query = [[1, 1], [3], [2, 2], [4], [4], [2]] \n",
    "print(design_hashmap(queryType, query)) "
   ]
  },
  {
   "cell_type": "code",
   "execution_count": 4,
   "metadata": {},
   "outputs": [
    {
     "name": "stdout",
     "output_type": "stream",
     "text": [
      "John Jenny\n",
      "Charles Christy\n",
      "Mike Monica\n"
     ]
    }
   ],
   "source": [
    "# zip function\n",
    "a = (\"John\", \"Charles\", \"Mike\")\n",
    "b = (\"Jenny\", \"Christy\", \"Monica\")\n",
    "\n",
    "x = zip(a, b)\n",
    "for i, j in x:\n",
    "    print(i, j)"
   ]
  },
  {
   "cell_type": "markdown",
   "metadata": {},
   "source": [
    "Grid of black/white cells\n",
    "\n",
    "black = [[0,0], [0,1], [1,0]]\n",
    "output = [1,2,0,1,0]"
   ]
  },
  {
   "cell_type": "code",
   "execution_count": 23,
   "metadata": {},
   "outputs": [
    {
     "name": "stdout",
     "output_type": "stream",
     "text": [
      "[1, 2, 0, 1, 0]\n"
     ]
    }
   ],
   "source": [
    "# the memo dic store all black cell, and traversal from that can avoid sparse problem\n",
    "# running time O(black)\n",
    "# space O(black)\n",
    "\n",
    "import collections\n",
    "# find the number of black node if the upper left cell is (i, j)\n",
    "def black_count(i, j, memo):\n",
    "    count = 0\n",
    "    for (new_i, new_j) in [(i, j), (i+1, j), (i, j+1), (i+1, j+1)]:\n",
    "        if new_i in memo and new_j in memo[new_i]:\n",
    "            count += 1\n",
    "    return count\n",
    "\n",
    "def solution(rows, cols, black):\n",
    "    memo = collections.defaultdict(set)     \n",
    "    for (i, j) in black:         \n",
    "        memo[i].add(j)      \n",
    "    res = [0 for _ in range(5)]     \n",
    "    visited = set()\n",
    "    \n",
    "    # traversal the all black cell \n",
    "    for i in memo:\n",
    "        for j in memo[i]:\n",
    "            for (di, dj) in [(-1, -1), (-1, 0), (0, -1), (0, 0)]:\n",
    "                if 0<= i + di < rows-1 and 0<=j+dj<cols-1:\n",
    "                    if (i+di, j+dj) not in visited:\n",
    "                        count = black_count(i+di, j+dj, memo)\n",
    "                        res[count] += 1\n",
    "                        visited.add((i+di, j+dj))\n",
    "\n",
    "    # white cell = total (2 * 2 cell) - (2*2 black cell)\n",
    "    # have to add this line, since the black_count only consider the black cell before\n",
    "    res[0] = (rows-1) * (cols-1) - sum(res)\n",
    "    return res\n",
    "\n",
    "\n",
    "rows, cols = 3, 3\n",
    "black = [[0, 0], [0, 1], [1, 0]]\n",
    "print(solution(rows, cols, black)) # [1, 2, 0, 1, 0]\n",
    "\n"
   ]
  },
  {
   "cell_type": "markdown",
   "metadata": {},
   "source": [
    "You are given a boolean matrix field representing the distribution of bombs in the\n",
    "rectangular field. You are also given integers x and y , representing the coordinates\n",
    "of the player's first clicked cell - x represents the row index, and y represents the\n",
    "column index, both of which are 0 -based.\n",
    "Your task is to return an integer matrix of the same dimensions as field ,\n",
    "representing the resulting field after applying this click. If a cell remains concealed, the\n",
    "corresponding element should have a value of -1.\n",
    "It is guaranteed that the clicked cell does not contain a mine."
   ]
  },
  {
   "cell_type": "code",
   "execution_count": null,
   "metadata": {},
   "outputs": [],
   "source": []
  },
  {
   "cell_type": "code",
   "execution_count": null,
   "metadata": {},
   "outputs": [],
   "source": [
    "# https://github.com/mendelsimon/CodeSignal-Solutions"
   ]
  }
 ],
 "metadata": {
  "kernelspec": {
   "display_name": "Python 3.9.12 ('base')",
   "language": "python",
   "name": "python3"
  },
  "language_info": {
   "codemirror_mode": {
    "name": "ipython",
    "version": 3
   },
   "file_extension": ".py",
   "mimetype": "text/x-python",
   "name": "python",
   "nbconvert_exporter": "python",
   "pygments_lexer": "ipython3",
   "version": "3.9.12"
  },
  "orig_nbformat": 4,
  "vscode": {
   "interpreter": {
    "hash": "40d3a090f54c6569ab1632332b64b2c03c39dcf918b08424e98f38b5ae0af88f"
   }
  }
 },
 "nbformat": 4,
 "nbformat_minor": 2
}
