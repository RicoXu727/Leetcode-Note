{
 "cells": [
  {
   "cell_type": "markdown",
   "metadata": {},
   "source": [
    "#### DFS in Graph"
   ]
  },
  {
   "cell_type": "code",
   "execution_count": null,
   "metadata": {},
   "outputs": [],
   "source": [
    "# Leetcode 341. Flatten Nested List Iterator\n",
    "# DFS applied in nestedList\n",
    "class NestedIterator:\n",
    "    def dfs(self, nestedList):\n",
    "        if not nestedList:\n",
    "            return \n",
    "        for i in nestedList:\n",
    "            if i.isInteger():\n",
    "                self.l.append(i.getInteger())\n",
    "            else:\n",
    "                self.dfs(i.getList())\n",
    "    def __init__(self, nestedList: [NestedInteger]):\n",
    "        self.l = []\n",
    "        self.dfs(nestedList)\n",
    "        self.length = len(self.l)\n",
    "    \n",
    "    def next(self) -> int:\n",
    "        if self.hasNext():\n",
    "            return self.l.pop(0)\n",
    "    \n",
    "    def hasNext(self) -> bool:\n",
    "         return True if len(self.l) > 0 else False"
   ]
  },
  {
   "cell_type": "code",
   "execution_count": 15,
   "metadata": {},
   "outputs": [
    {
     "data": {
      "text/plain": [
       "'234234234'"
      ]
     },
     "execution_count": 15,
     "metadata": {},
     "output_type": "execute_result"
    }
   ],
   "source": [
    "# Leetcode 394. Decode String\n",
    "# ord(): This function accepts a string of unit length as an argument and returns the Unicode equivalence of the passed argument. (Just accept single char or numer)  \n",
    "# Reset parameters to deploy DFS\n",
    "                                                                              \n",
    "class Solution:\n",
    "    def decodeString(self, s: str) -> str:\n",
    "        res = \"\"\n",
    "        stack = []\n",
    "        nums = 0\n",
    "        for ele in s:\n",
    "            if ord(ele) >= ord(\"a\") and ord(ele) <= ord(\"z\"):\n",
    "                res += ele\n",
    "            elif ord(ele) >= ord(\"0\") and ord(ele) <= ord(\"9\"):\n",
    "                nums = 10*nums + int(ele)\n",
    "            elif ele == \"[\":\n",
    "                # start a new level\n",
    "                stack.append(res)\n",
    "                stack.append(nums)\n",
    "                \n",
    "                # reset res and nums\n",
    "                res = \"\"\n",
    "                nums = 0\n",
    "            else: # ele == \"]\"\n",
    "                lower_level_res = res * stack.pop()\n",
    "                res = stack.pop() + lower_level_res\n",
    "        return res\n"
   ]
  },
  {
   "cell_type": "code",
   "execution_count": 21,
   "metadata": {},
   "outputs": [],
   "source": [
    "# Leetcode 51 N-Queens (I II基本相同)\n",
    "# set board to tracking \n",
    "class Solution:\n",
    "    def solveNQueens(self, n: int) -> List[List[str]]:\n",
    "        board = [[\".\" for _ in range(n)] for _ in range(n)]\n",
    "        col, posD, negD = set(), set(), set()\n",
    "        res = []\n",
    "        def backtracking(row):\n",
    "            if row == n:\n",
    "                res.append([\"\".join(r) for r in board])\n",
    "                return\n",
    "            \n",
    "            for column in range(n):\n",
    "                if column not in col and (column + row) not in negD and (column - row) not in posD:\n",
    "                    board[row][column] = \"Q\"\n",
    "                    col.add(column)\n",
    "                    posD.add(column - row)\n",
    "                    negD.add(column + row)\n",
    "                    \n",
    "                    backtracking(row + 1)\n",
    "                    \n",
    "                    board[row][column] = \".\"\n",
    "                    col.remove(column)\n",
    "                    posD.remove(column - row)\n",
    "                    negD.remove(column + row)\n",
    "                    \n",
    "        backtracking(0)\n",
    "        return res\n"
   ]
  },
  {
   "cell_type": "code",
   "execution_count": null,
   "metadata": {},
   "outputs": [],
   "source": [
    "# Leetcode 291 Word Pattern II (I为简单的Hashmap题)\n"
   ]
  },
  {
   "cell_type": "code",
   "execution_count": null,
   "metadata": {},
   "outputs": [],
   "source": [
    "# Leetcode 126 Word Ladder II （I为BFS题目）\n"
   ]
  },
  {
   "cell_type": "code",
   "execution_count": null,
   "metadata": {},
   "outputs": [],
   "source": [
    "# Leetcode 93 Restore IP Addresses\n"
   ]
  },
  {
   "cell_type": "code",
   "execution_count": null,
   "metadata": {},
   "outputs": [],
   "source": [
    "# Leetcode 22 Generate Parentheses\n"
   ]
  },
  {
   "cell_type": "code",
   "execution_count": null,
   "metadata": {},
   "outputs": [],
   "source": [
    "# Leetcode 856 Score of Parentheses\n"
   ]
  },
  {
   "cell_type": "code",
   "execution_count": null,
   "metadata": {},
   "outputs": [],
   "source": [
    "# Leetcode 301 Remove Invalid Parentheses\n"
   ]
  },
  {
   "cell_type": "code",
   "execution_count": null,
   "metadata": {},
   "outputs": [],
   "source": [
    "# Leetcode 37 Sodoku Solver\n"
   ]
  },
  {
   "cell_type": "code",
   "execution_count": null,
   "metadata": {},
   "outputs": [],
   "source": [
    "# Leetcode 212 Word Search II （I, II）\n"
   ]
  },
  {
   "cell_type": "code",
   "execution_count": null,
   "metadata": {},
   "outputs": [],
   "source": [
    "# Leetcode 1087 Brace Expansion\n"
   ]
  },
  {
   "cell_type": "code",
   "execution_count": null,
   "metadata": {},
   "outputs": [],
   "source": [
    "# Leetcode 399 Evaluate Division\n"
   ]
  },
  {
   "cell_type": "code",
   "execution_count": null,
   "metadata": {},
   "outputs": [],
   "source": [
    "# Leetcode 1274 Number of Ships in a Rectangle\n"
   ]
  },
  {
   "cell_type": "code",
   "execution_count": null,
   "metadata": {},
   "outputs": [],
   "source": [
    "# Leetcode 1376 Time Needed to Inform All Employees\n"
   ]
  },
  {
   "cell_type": "code",
   "execution_count": null,
   "metadata": {},
   "outputs": [],
   "source": [
    "# Leetcode 694 Number of Distinct Islands\n"
   ]
  },
  {
   "cell_type": "code",
   "execution_count": null,
   "metadata": {},
   "outputs": [],
   "source": [
    "# Leetcode 131 Palindrome Partitioning"
   ]
  }
 ],
 "metadata": {
  "kernelspec": {
   "display_name": "Python 3.8.9 64-bit",
   "language": "python",
   "name": "python3"
  },
  "language_info": {
   "codemirror_mode": {
    "name": "ipython",
    "version": 3
   },
   "file_extension": ".py",
   "mimetype": "text/x-python",
   "name": "python",
   "nbconvert_exporter": "python",
   "pygments_lexer": "ipython3",
   "version": "3.8.9"
  },
  "orig_nbformat": 4,
  "vscode": {
   "interpreter": {
    "hash": "31f2aee4e71d21fbe5cf8b01ff0e069b9275f58929596ceb00d14d90e3e16cd6"
   }
  }
 },
 "nbformat": 4,
 "nbformat_minor": 2
}
