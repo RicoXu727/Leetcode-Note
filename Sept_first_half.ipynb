{
 "cells": [
  {
   "cell_type": "markdown",
   "metadata": {},
   "source": [
    "#### DFS in Graph"
   ]
  },
  {
   "cell_type": "code",
   "execution_count": null,
   "metadata": {},
   "outputs": [],
   "source": [
    "# Leetcode 341. Flatten Nested List Iterator\n",
    "# DFS applied in nestedList\n",
    "class NestedIterator:\n",
    "    def dfs(self, nestedList):\n",
    "        if not nestedList:\n",
    "            return \n",
    "        for i in nestedList:\n",
    "            if i.isInteger():\n",
    "                self.l.append(i.getInteger())\n",
    "            else:\n",
    "                self.dfs(i.getList())\n",
    "    def __init__(self, nestedList: [NestedInteger]):\n",
    "        self.l = []\n",
    "        self.dfs(nestedList)\n",
    "        self.length = len(self.l)\n",
    "    \n",
    "    def next(self) -> int:\n",
    "        if self.hasNext():\n",
    "            return self.l.pop(0)\n",
    "    \n",
    "    def hasNext(self) -> bool:\n",
    "         return True if len(self.l) > 0 else False"
   ]
  },
  {
   "cell_type": "code",
   "execution_count": 15,
   "metadata": {},
   "outputs": [
    {
     "data": {
      "text/plain": [
       "'234234234'"
      ]
     },
     "execution_count": 15,
     "metadata": {},
     "output_type": "execute_result"
    }
   ],
   "source": [
    "# Leetcode 394. Decode String\n",
    "# ord(): This function accepts a string of unit length as an argument and returns the Unicode equivalence of the passed argument. (Just accept single char or numer)  \n",
    "# Reset parameters to deploy DFS\n",
    "                                                                              \n",
    "class Solution:\n",
    "    def decodeString(self, s: str) -> str:\n",
    "        res = \"\"\n",
    "        stack = []\n",
    "        nums = 0\n",
    "        for ele in s:\n",
    "            if ord(ele) >= ord(\"a\") and ord(ele) <= ord(\"z\"):\n",
    "                res += ele\n",
    "            elif ord(ele) >= ord(\"0\") and ord(ele) <= ord(\"9\"):\n",
    "                nums = 10*nums + int(ele)\n",
    "            elif ele == \"[\":\n",
    "                # start a new level\n",
    "                stack.append(res)\n",
    "                stack.append(nums)\n",
    "                \n",
    "                # reset res and nums\n",
    "                res = \"\"\n",
    "                nums = 0\n",
    "            else: # ele == \"]\"\n",
    "                lower_level_res = res * stack.pop()\n",
    "                res = stack.pop() + lower_level_res\n",
    "        return res\n"
   ]
  },
  {
   "cell_type": "code",
   "execution_count": 21,
   "metadata": {},
   "outputs": [],
   "source": [
    "# Leetcode 51 N-Queens (I II基本相同)\n",
    "# set board to tracking \n",
    "class Solution:\n",
    "    def solveNQueens(self, n: int) -> List[List[str]]:\n",
    "        board = [[\".\" for _ in range(n)] for _ in range(n)]\n",
    "        col, posD, negD = set(), set(), set()\n",
    "        res = []\n",
    "        def backtracking(row):\n",
    "            if row == n:\n",
    "                res.append([\"\".join(r) for r in board])\n",
    "                return\n",
    "            \n",
    "            for column in range(n):\n",
    "                if column not in col and (column + row) not in negD and (column - row) not in posD:\n",
    "                    board[row][column] = \"Q\"\n",
    "                    col.add(column)\n",
    "                    posD.add(column - row)\n",
    "                    negD.add(column + row)\n",
    "                    \n",
    "                    backtracking(row + 1)\n",
    "                    \n",
    "                    board[row][column] = \".\"\n",
    "                    col.remove(column)\n",
    "                    posD.remove(column - row)\n",
    "                    negD.remove(column + row)\n",
    "                    \n",
    "        backtracking(0)\n",
    "        return res\n"
   ]
  },
  {
   "cell_type": "code",
   "execution_count": 3,
   "metadata": {},
   "outputs": [
    {
     "name": "stdout",
     "output_type": "stream",
     "text": [
      "<zip object at 0x111801480>\n"
     ]
    }
   ],
   "source": [
    "# Leetcode 290 Word Pattern \n",
    "# zip() : returns a zip object, which is an iterator of tuples where the first item in each passed iterator is paired together, and then the second item in each passed iterator are paired together\n",
    "pattern = \"abba\"\n",
    "words = [\"dog\", \"cat\", \"cat\", \"dog\"]\n",
    "for c, w in zip(pattern, words):\n",
    "    print(c, w)\n",
    "# output : \n",
    "# a dog\n",
    "# b cat\n",
    "# b cat\n",
    "# a dog\n",
    "\n",
    "a = (\"John\", \"Charles\", \"Mike\")\n",
    "b = (\"Jenny\", \"Christy\", \"Monica\", \"Vicky\")\n",
    "\n",
    "x = zip(a, b)\n",
    "print(x)\n",
    "class Solution:\n",
    "    def wordPattern(self, pattern: str, s: str) -> bool:\n",
    "        d = {}\n",
    "        c = {}\n",
    "        strings = s.split(\" \")\n",
    "        if len(strings) != len(pattern):\n",
    "            return False\n",
    "        for i in range(len(pattern)):\n",
    "            if pattern[i] not in d:\n",
    "                d[pattern[i]] = strings[i]\n",
    "            else:\n",
    "                if d[pattern[i]] != strings[i]:\n",
    "                    return False\n",
    "            if strings[i] not in c:\n",
    "                c[strings[i]] = pattern[i]\n",
    "            else:\n",
    "                if c[strings[i]] != pattern[i]:\n",
    "                    return False\n",
    "        return True\n"
   ]
  },
  {
   "cell_type": "code",
   "execution_count": null,
   "metadata": {},
   "outputs": [],
   "source": [
    "# Leetcode 291 Word Pattern II (I为简单的Hashmap题)\n",
    "# two pointers\n",
    "# i track pattern j track string\n",
    "\n",
    "class Solution:\n",
    "    def wordPatternMatch(self, pattern: str, s: str) -> bool:\n",
    "        mapping = {}\n",
    "        mapped = set()\n",
    "        \n",
    "        def helper(i, j):\n",
    "            if i == len(pattern) and j == len(s):\n",
    "                return True\n",
    "            if i >= len(pattern) or j >= len(s):\n",
    "                return\n",
    "            if pattern[i] not in mapping:\n",
    "                for length in range(1, len(s) - j + 1):\n",
    "                    print(pattern[i], s[j:j+length], length)\n",
    "                    if s[j : j + length] not in mapped:\n",
    "                        mapped.add(s[j : j + length])\n",
    "                        mapping[pattern[i]] = s[j : j + length]\n",
    "                        print(mapped)\n",
    "                        print(mapping)\n",
    "                        if helper(i + 1, j + length):\n",
    "                            return True\n",
    "                        mapping.pop(pattern[i])\n",
    "                        mapped.remove(s[j : j + length])\n",
    "            elif s[j : j + len(mapping[pattern[i]])] == mapping[pattern[i]]:\n",
    "                if helper(i + 1, j + len(mapping[pattern[i]])):\n",
    "                    return True\n",
    "            return False\n",
    "        return helper(0, 0)"
   ]
  },
  {
   "cell_type": "code",
   "execution_count": 1,
   "metadata": {},
   "outputs": [],
   "source": [
    "# Leetcode 126 Word Ladder II （I为BFS题目）(hard)\n"
   ]
  },
  {
   "cell_type": "code",
   "execution_count": 6,
   "metadata": {},
   "outputs": [
    {
     "name": "stdout",
     "output_type": "stream",
     "text": [
      "True\n"
     ]
    }
   ],
   "source": [
    "# Leetcode 93 Restore IP Addresses\n",
    "d = {}\n",
    "d[\"cat\"] = 1\n",
    "d[\"dog\"] = 2\n",
    "d[\"bear\"] = 3\n",
    "print(\"cat\" in d)\n"
   ]
  },
  {
   "cell_type": "code",
   "execution_count": 8,
   "metadata": {},
   "outputs": [
    {
     "data": {
      "text/plain": [
       "'1234'"
      ]
     },
     "execution_count": 8,
     "metadata": {},
     "output_type": "execute_result"
    }
   ],
   "source": [
    "# Leetcode 22 Generate Parentheses\n",
    "s = \"12345\"\n",
    "s[:-1]"
   ]
  },
  {
   "cell_type": "code",
   "execution_count": null,
   "metadata": {},
   "outputs": [],
   "source": [
    "# Leetcode 856 Score of Parentheses\n"
   ]
  },
  {
   "cell_type": "code",
   "execution_count": null,
   "metadata": {},
   "outputs": [],
   "source": [
    "# Leetcode 301 Remove Invalid Parentheses\n"
   ]
  },
  {
   "cell_type": "code",
   "execution_count": null,
   "metadata": {},
   "outputs": [],
   "source": [
    "# Leetcode 37 Sodoku Solver\n"
   ]
  },
  {
   "cell_type": "code",
   "execution_count": null,
   "metadata": {},
   "outputs": [],
   "source": [
    "# Leetcode 212 Word Search II （I, II）\n"
   ]
  },
  {
   "cell_type": "code",
   "execution_count": null,
   "metadata": {},
   "outputs": [],
   "source": [
    "# Leetcode 1087 Brace Expansion\n"
   ]
  },
  {
   "cell_type": "code",
   "execution_count": null,
   "metadata": {},
   "outputs": [],
   "source": [
    "# Leetcode 399 Evaluate Division\n"
   ]
  },
  {
   "cell_type": "code",
   "execution_count": null,
   "metadata": {},
   "outputs": [],
   "source": [
    "# Leetcode 1274 Number of Ships in a Rectangle\n"
   ]
  },
  {
   "cell_type": "code",
   "execution_count": null,
   "metadata": {},
   "outputs": [],
   "source": [
    "# Leetcode 1376 Time Needed to Inform All Employees\n"
   ]
  },
  {
   "cell_type": "code",
   "execution_count": null,
   "metadata": {},
   "outputs": [],
   "source": [
    "# Leetcode 694 Number of Distinct Islands\n"
   ]
  },
  {
   "cell_type": "code",
   "execution_count": null,
   "metadata": {},
   "outputs": [],
   "source": [
    "# Leetcode 131 Palindrome Partitioning"
   ]
  },
  {
   "cell_type": "code",
   "execution_count": null,
   "metadata": {},
   "outputs": [],
   "source": [
    "# Hudson River Park OA\n",
    "\n",
    "words1 = [\"back\", \"backdoor\", \"gammon\", \"backgammon\", \"comeback\", \"come\", \"door\"]\n",
    "words2 = [\"cba\", \"a\", \"a\", \"b\", \"ba\", \"ca\"]\n",
    "def solution(words):\n",
    "    d = {}\n",
    "    res = 0\n",
    "    for i in range(len(words)):\n",
    "        cur = words[i]\n",
    "        if not d:\n",
    "            d[cur] = 1\n",
    "        else:\n",
    "            for x in d:\n",
    "                if cur == x:\n",
    "                    res += d[x]\n",
    "                elif x in cur:\n",
    "                    tmp = cur\n",
    "                    tmp2 = x\n",
    "                    while tmp2 and tmp:\n",
    "                        if tmp2[-1] != tmp[-1]:\n",
    "                            break\n",
    "                        tmp2 = tmp2[:-1]\n",
    "                        tmp = tmp[:-1]\n",
    "                        if not tmp2 and tmp:\n",
    "                            res += d[x]\n",
    "                elif cur in x:\n",
    "                    tmp = cur\n",
    "                    tmp2 = x\n",
    "                    while tmp and tmp2:\n",
    "                        if tmp2[-1] != tmp[-1]:\n",
    "                            break\n",
    "                        tmp2 = tmp2[:-1]\n",
    "                        tmp = tmp[:-1]\n",
    "                        if not tmp and tmp2:\n",
    "                            res += d[x]\n",
    "            if cur not in d:\n",
    "                d[cur] = 1\n",
    "            else:\n",
    "                d[cur] += 1\n",
    "            #print(d)\n",
    "            #print(res)\n",
    "    return res\n",
    "print(solution(words2))"
   ]
  },
  {
   "cell_type": "code",
   "execution_count": null,
   "metadata": {},
   "outputs": [],
   "source": [
    "# Leetcode 1307. Verbal Arithmetic Puzzle"
   ]
  },
  {
   "cell_type": "code",
   "execution_count": null,
   "metadata": {},
   "outputs": [],
   "source": [
    "# https://leetcode.com/problems/subsets/discuss/27281/A-general-approach-to-backtracking-questions-in-Java-(Subsets-Permutations-Combination-Sum-Palindrome-Partitioning)"
   ]
  },
  {
   "cell_type": "code",
   "execution_count": 35,
   "metadata": {},
   "outputs": [],
   "source": [
    "# Leetcode 1110. Delete Nodes And Return Forest\n",
    "\n"
   ]
  },
  {
   "cell_type": "code",
   "execution_count": 20,
   "metadata": {},
   "outputs": [
    {
     "name": "stdout",
     "output_type": "stream",
     "text": [
      "5\n"
     ]
    }
   ],
   "source": []
  }
 ],
 "metadata": {
  "kernelspec": {
   "display_name": "Python 3.8.9 64-bit",
   "language": "python",
   "name": "python3"
  },
  "language_info": {
   "codemirror_mode": {
    "name": "ipython",
    "version": 3
   },
   "file_extension": ".py",
   "mimetype": "text/x-python",
   "name": "python",
   "nbconvert_exporter": "python",
   "pygments_lexer": "ipython3",
   "version": "3.8.9"
  },
  "orig_nbformat": 4,
  "vscode": {
   "interpreter": {
    "hash": "31f2aee4e71d21fbe5cf8b01ff0e069b9275f58929596ceb00d14d90e3e16cd6"
   }
  }
 },
 "nbformat": 4,
 "nbformat_minor": 2
}
