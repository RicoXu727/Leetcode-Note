{
 "cells": [
  {
   "cell_type": "markdown",
   "metadata": {},
   "source": [
    "#### DFS in Graph"
   ]
  },
  {
   "cell_type": "code",
   "execution_count": null,
   "metadata": {},
   "outputs": [],
   "source": [
    "# Leetcode 341. Flatten Nested List Iterator\n",
    "# DFS applied in nestedList\n",
    "class NestedIterator:\n",
    "    def dfs(self, nestedList):\n",
    "        if not nestedList:\n",
    "            return \n",
    "        for i in nestedList:\n",
    "            if i.isInteger():\n",
    "                self.l.append(i.getInteger())\n",
    "            else:\n",
    "                self.dfs(i.getList())\n",
    "    def __init__(self, nestedList: [NestedInteger]):\n",
    "        self.l = []\n",
    "        self.dfs(nestedList)\n",
    "        self.length = len(self.l)\n",
    "    \n",
    "    def next(self) -> int:\n",
    "        if self.hasNext():\n",
    "            return self.l.pop(0)\n",
    "    \n",
    "    def hasNext(self) -> bool:\n",
    "         return True if len(self.l) > 0 else False"
   ]
  },
  {
   "cell_type": "code",
   "execution_count": null,
   "metadata": {},
   "outputs": [
    {
     "data": {
      "text/plain": [
       "'234234234'"
      ]
     },
     "execution_count": 15,
     "metadata": {},
     "output_type": "execute_result"
    }
   ],
   "source": [
    "# Leetcode 394. Decode String\n",
    "# ord(): This function accepts a string of unit length as an argument and returns the Unicode equivalence of the passed argument. (Just accept single char or numer)  \n",
    "# Reset parameters to deploy DFS\n",
    "                                                                              \n",
    "class Solution:\n",
    "    def decodeString(self, s: str) -> str:\n",
    "        res = \"\"\n",
    "        stack = []\n",
    "        nums = 0\n",
    "        for ele in s:\n",
    "            if ord(ele) >= ord(\"a\") and ord(ele) <= ord(\"z\"):\n",
    "                res += ele\n",
    "            elif ord(ele) >= ord(\"0\") and ord(ele) <= ord(\"9\"):\n",
    "                nums = 10*nums + int(ele)\n",
    "            elif ele == \"[\":\n",
    "                # start a new level\n",
    "                stack.append(res)\n",
    "                stack.append(nums)\n",
    "                \n",
    "                # reset res and nums\n",
    "                res = \"\"\n",
    "                nums = 0\n",
    "            else: # ele == \"]\"\n",
    "                lower_level_res = res * stack.pop()\n",
    "                res = stack.pop() + lower_level_res\n",
    "        return res\n"
   ]
  },
  {
   "cell_type": "code",
   "execution_count": null,
   "metadata": {},
   "outputs": [],
   "source": [
    "# Leetcode 51 N-Queens (I II基本相同)\n",
    "# set board to tracking \n",
    "class Solution:\n",
    "    def solveNQueens(self, n: int) -> List[List[str]]:\n",
    "        board = [[\".\" for _ in range(n)] for _ in range(n)]\n",
    "        col, posD, negD = set(), set(), set()\n",
    "        res = []\n",
    "        def backtracking(row):\n",
    "            if row == n:\n",
    "                res.append([\"\".join(r) for r in board])\n",
    "                return\n",
    "            \n",
    "            for column in range(n):\n",
    "                if column not in col and (column + row) not in negD and (column - row) not in posD:\n",
    "                    board[row][column] = \"Q\"\n",
    "                    col.add(column)\n",
    "                    posD.add(column - row)\n",
    "                    negD.add(column + row)\n",
    "                    \n",
    "                    backtracking(row + 1)\n",
    "                    \n",
    "                    board[row][column] = \".\"\n",
    "                    col.remove(column)\n",
    "                    posD.remove(column - row)\n",
    "                    negD.remove(column + row)\n",
    "                    \n",
    "        backtracking(0)\n",
    "        return res\n"
   ]
  },
  {
   "cell_type": "code",
   "execution_count": null,
   "metadata": {},
   "outputs": [
    {
     "name": "stdout",
     "output_type": "stream",
     "text": [
      "<zip object at 0x111801480>\n"
     ]
    }
   ],
   "source": [
    "# Leetcode 290 Word Pattern \n",
    "# zip() : returns a zip object, which is an iterator of tuples where the first item in each passed iterator is paired together, and then the second item in each passed iterator are paired together\n",
    "pattern = \"abba\"\n",
    "words = [\"dog\", \"cat\", \"cat\", \"dog\"]\n",
    "for c, w in zip(pattern, words):\n",
    "    print(c, w)\n",
    "# output : \n",
    "# a dog\n",
    "# b cat\n",
    "# b cat\n",
    "# a dog\n",
    "\n",
    "a = (\"John\", \"Charles\", \"Mike\")\n",
    "b = (\"Jenny\", \"Christy\", \"Monica\", \"Vicky\")\n",
    "\n",
    "x = zip(a, b)\n",
    "print(x)\n",
    "class Solution:\n",
    "    def wordPattern(self, pattern: str, s: str) -> bool:\n",
    "        d = {}\n",
    "        c = {}\n",
    "        strings = s.split(\" \")\n",
    "        if len(strings) != len(pattern):\n",
    "            return False\n",
    "        for i in range(len(pattern)):\n",
    "            if pattern[i] not in d:\n",
    "                d[pattern[i]] = strings[i]\n",
    "            else:\n",
    "                if d[pattern[i]] != strings[i]:\n",
    "                    return False\n",
    "            if strings[i] not in c:\n",
    "                c[strings[i]] = pattern[i]\n",
    "            else:\n",
    "                if c[strings[i]] != pattern[i]:\n",
    "                    return False\n",
    "        return True\n"
   ]
  },
  {
   "cell_type": "code",
   "execution_count": null,
   "metadata": {},
   "outputs": [],
   "source": [
    "# Leetcode 291 Word Pattern II (I为简单的Hashmap题)\n",
    "# two pointers\n",
    "# i track pattern j track string\n",
    "\n",
    "class Solution:\n",
    "    def wordPatternMatch(self, pattern: str, s: str) -> bool:\n",
    "        mapping = {}\n",
    "        mapped = set()\n",
    "        \n",
    "        def helper(i, j):\n",
    "            if i == len(pattern) and j == len(s):\n",
    "                return True\n",
    "            if i >= len(pattern) or j >= len(s):\n",
    "                return\n",
    "            if pattern[i] not in mapping:\n",
    "                for length in range(1, len(s) - j + 1):\n",
    "                    print(pattern[i], s[j:j+length], length)\n",
    "                    if s[j : j + length] not in mapped:\n",
    "                        mapped.add(s[j : j + length])\n",
    "                        mapping[pattern[i]] = s[j : j + length]\n",
    "                        print(mapped)\n",
    "                        print(mapping)\n",
    "                        if helper(i + 1, j + length):\n",
    "                            return True\n",
    "                        mapping.pop(pattern[i])\n",
    "                        mapped.remove(s[j : j + length])\n",
    "            elif s[j : j + len(mapping[pattern[i]])] == mapping[pattern[i]]:\n",
    "                if helper(i + 1, j + len(mapping[pattern[i]])):\n",
    "                    return True\n",
    "            return False\n",
    "        return helper(0, 0)"
   ]
  },
  {
   "cell_type": "code",
   "execution_count": null,
   "metadata": {},
   "outputs": [],
   "source": [
    "# Leetcode 126 Word Ladder II （I为BFS题目）(hard)\n"
   ]
  },
  {
   "cell_type": "code",
   "execution_count": null,
   "metadata": {},
   "outputs": [
    {
     "name": "stdout",
     "output_type": "stream",
     "text": [
      "True\n"
     ]
    }
   ],
   "source": [
    "# Leetcode 93 Restore IP Addresses\n",
    "\n",
    "class Solution:\n",
    "    def restoreIpAddresses(self, s: str) -> List[str]:\n",
    "        output = set()\n",
    "\n",
    "        def backtracking(remainS, path, dots):\n",
    "            if dots == 0 and remainS == \"\":\n",
    "                output.add(path[:-1])\n",
    "                return \n",
    "            for i in range(1, len(remainS) + 1):\n",
    "                if remainS[:i]=='0' or (remainS[0]!='0' and 0 < int(remainS[:i]) < 256):\n",
    "                    backtracking(remainS[i:], path+remainS[:i]+\".\", dots - 1)\n",
    "\n",
    "        backtracking(s, \"\", 4)\n",
    "        return list(output)\n"
   ]
  },
  {
   "cell_type": "code",
   "execution_count": 5,
   "metadata": {},
   "outputs": [
    {
     "data": {
      "text/plain": [
       "(True, ['it', 'was', 'the', 'best', 'times'])"
      ]
     },
     "execution_count": 5,
     "metadata": {},
     "output_type": "execute_result"
    }
   ],
   "source": [
    "# Leetcode 14. Longest Common Prefix\n"
   ]
  },
  {
   "cell_type": "code",
   "execution_count": null,
   "metadata": {},
   "outputs": [
    {
     "data": {
      "text/plain": [
       "'1234'"
      ]
     },
     "execution_count": 8,
     "metadata": {},
     "output_type": "execute_result"
    }
   ],
   "source": [
    "# Leetcode 22 Generate Parentheses\n"
   ]
  },
  {
   "cell_type": "code",
   "execution_count": null,
   "metadata": {},
   "outputs": [],
   "source": [
    "# Leetcode 856 Score of Parentheses\n"
   ]
  },
  {
   "cell_type": "code",
   "execution_count": null,
   "metadata": {},
   "outputs": [],
   "source": [
    "# Leetcode 301 Remove Invalid Parentheses\n"
   ]
  },
  {
   "cell_type": "code",
   "execution_count": null,
   "metadata": {},
   "outputs": [],
   "source": [
    "# Leetcode 37 Sodoku Solver\n"
   ]
  },
  {
   "cell_type": "code",
   "execution_count": null,
   "metadata": {},
   "outputs": [],
   "source": [
    "# Leetcode 212 Word Search II （I, II）\n"
   ]
  },
  {
   "cell_type": "code",
   "execution_count": null,
   "metadata": {},
   "outputs": [],
   "source": [
    "# Leetcode 1087 Brace Expansion\n"
   ]
  },
  {
   "cell_type": "code",
   "execution_count": null,
   "metadata": {},
   "outputs": [],
   "source": [
    "# Leetcode 399 Evaluate Division\n"
   ]
  },
  {
   "cell_type": "code",
   "execution_count": null,
   "metadata": {},
   "outputs": [],
   "source": [
    "# Leetcode 1274 Number of Ships in a Rectangle\n"
   ]
  },
  {
   "cell_type": "code",
   "execution_count": null,
   "metadata": {},
   "outputs": [],
   "source": [
    "# Leetcode 1376 Time Needed to Inform All Employees\n"
   ]
  },
  {
   "cell_type": "code",
   "execution_count": null,
   "metadata": {},
   "outputs": [],
   "source": [
    "# leetcode 200. Number of Islands\n",
    "\n",
    "# Set check board to track if visited\n",
    "# bfs flip all False to True in same Island \n",
    "\n",
    "class Solution:\n",
    "    def numIslands(self, grid: List[List[str]]) -> int:\n",
    "        count = 0\n",
    "        m = len(grid)\n",
    "        n = len(grid[0])\n",
    "\n",
    "        check = [[False for _ in range(n)] for _ in range(m)]\n",
    "\n",
    "        def bfs(grid, check, i, j):\n",
    "            q = [(i, j)]\n",
    "            while q:\n",
    "                i, j = q.pop()\n",
    "                neighbor = [(i, j + 1), (i + 1, j), (i - 1, j), (i, j - 1)]\n",
    "                for nei in neighbor:\n",
    "                    if 0 <= nei[0] < len(grid) and 0 <= nei[1] < len(grid[0]) and grid[nei[0]][nei[1]] == \"1\" and check[nei[0]][nei[1]] == False:\n",
    "                        check[nei[0]][nei[1]] = True\n",
    "                        q.append(nei)\n",
    "\n",
    "        for i in range(m):\n",
    "            for j in range(n):\n",
    "                if grid[i][j] == \"1\" and check[i][j] == False:\n",
    "                    count += 1\n",
    "                    bfs(grid, check, i, j)\n",
    "\n",
    "        return count"
   ]
  },
  {
   "cell_type": "code",
   "execution_count": 36,
   "metadata": {},
   "outputs": [
    {
     "name": "stdout",
     "output_type": "stream",
     "text": [
      "2\n"
     ]
    }
   ],
   "source": [
    "# Leetcode 694 Number of Distinct Islands\n",
    "# island.append((x-i, y-j)) check duplicates: minus first item in island\n",
    "class Solution:\n",
    "    def numDistinctIslands(self, grid: List[List[int]]) -> int:\n",
    "        islands = set()\n",
    "        for i in range(len(grid)):\n",
    "            for j in range(len(grid[i])):\n",
    "                island = []\n",
    "                q = [(i,j)]\n",
    "                \n",
    "                while q:\n",
    "                    x, y = q.pop()\n",
    "                    if 0 <= x < len(grid) and 0 <= y < len(grid[0]) and grid[x][y] == 1:\n",
    "                        grid[x][y] = 0\n",
    "                        island.append((x-i, y-j))\n",
    "                        q.extend([(x + 1, y),(x - 1, y),(x, y + 1),(x, y - 1)])\n",
    "\n",
    "                if island and str(island) not in islands:\n",
    "                    islands.add(str(island))\n",
    "                \n",
    "        return len(islands)\n",
    "\n"
   ]
  },
  {
   "cell_type": "code",
   "execution_count": null,
   "metadata": {},
   "outputs": [],
   "source": [
    "# Leetcode 131 Palindrome Partitioning"
   ]
  },
  {
   "cell_type": "code",
   "execution_count": null,
   "metadata": {},
   "outputs": [],
   "source": [
    "# Leetcode 1307. Verbal Arithmetic Puzzle"
   ]
  },
  {
   "cell_type": "code",
   "execution_count": null,
   "metadata": {},
   "outputs": [],
   "source": [
    "# https://leetcode.com/problems/subsets/discuss/27281/A-general-approach-to-backtracking-questions-in-Java-(Subsets-Permutations-Combination-Sum-Palindrome-Partitioning)"
   ]
  },
  {
   "cell_type": "code",
   "execution_count": null,
   "metadata": {},
   "outputs": [],
   "source": [
    "# Leetcode 1110. Delete Nodes And Return Forest"
   ]
  },
  {
   "cell_type": "markdown",
   "metadata": {},
   "source": [
    "### Dynamic Programming"
   ]
  },
  {
   "cell_type": "code",
   "execution_count": 22,
   "metadata": {},
   "outputs": [
    {
     "data": {
      "text/plain": [
       "True"
      ]
     },
     "execution_count": 22,
     "metadata": {},
     "output_type": "execute_result"
    }
   ],
   "source": [
    "a = \"12234573\"\n",
    "b = \"12365384\"\n",
    "def function(a, b):\n",
    "    if len(a) != len(b):\n",
    "        return False\n",
    "    a = sorted(a)\n",
    "    b = sorted(b)\n",
    "    for i in range(len(a)):\n",
    "        if int(a[i]) != int(b[i]) and (int(a[i]) + 1) != int(b[i]):\n",
    "            return False\n",
    "    return True\n",
    "function(a, b)"
   ]
  },
  {
   "cell_type": "code",
   "execution_count": null,
   "metadata": {},
   "outputs": [],
   "source": [
    "# Leetcode 322. Coin Change\n",
    "# Classic backpack\n",
    "\n",
    "# Dp array store the minimum number of coins need to use.\n",
    "\n",
    "class Solution:\n",
    "    def coinChange(self, coins: List[int], amount: int) -> int:\n",
    "        minCoins = [amount + 1] * (amount + 1)\n",
    "        # base cases\n",
    "        minCoins[0] = 0 \n",
    "        \n",
    "        for i in range(amount + 1):\n",
    "            for coin in coins:\n",
    "                if i >= coin:\n",
    "                    minCoins[i] = min(minCoins[i-coin] + 1, minCoins[i])\n",
    "        if minCoins[amount] < amount + 1:\n",
    "            return minCoins[amount]\n",
    "        else:\n",
    "            return -1"
   ]
  },
  {
   "cell_type": "code",
   "execution_count": null,
   "metadata": {},
   "outputs": [],
   "source": [
    "# Leetcode 1444. Number of Ways of Cutting a Pizza\n",
    "# Prefix Sum and DP\n",
    "from functools import lru_cache\n",
    "class Solution:\n",
    "    def ways(self, pizza: List[str], k: int) -> int:\n",
    "        #row, col = m, n\n",
    "        m, n = len(pizza), len(pizza[0])\n",
    "\n",
    "        suffix = [[0] * (n + 1) for _ in range(m + 1)]\n",
    "        for i in range(m - 1, -1, -1):\n",
    "            for j in range(n):\n",
    "                suffix[i][j] = suffix[i + 1][j] + (pizza[i][j] == 'A')\n",
    "        \n",
    "        for i in range(m):\n",
    "            for j in range(n - 1, -1, -1):\n",
    "                suffix[i][j] += suffix[i][j + 1]\n",
    "\n",
    "        MOD = 10 ** 9 + 7\n",
    "        @lru_cache(None)\n",
    "        def cutHelper(top, left, cut):\n",
    "            if cut == 0:\n",
    "                return 1 if suffix[top][left] else 0\n",
    "\n",
    "            res = 0\n",
    "            for i in range(top + 1, m):\n",
    "                if suffix[top][left] != suffix[i][left]:\n",
    "                    if suffix[i][left] < cut - 1:\n",
    "                        break\n",
    "                    res = (res + cutHelper(i, left, cut - 1)) % MOD\n",
    "            for j in range(left + 1, n):\n",
    "                if suffix[top][left] != suffix[top][j]:\n",
    "                    if suffix[top][j] < cut - 1:\n",
    "                        break\n",
    "                    res = (res + cutHelper(top, j, cut - 1)) % MOD\n",
    "            return res\n",
    "        return cutHelper(0, 0, k-1)"
   ]
  },
  {
   "cell_type": "markdown",
   "metadata": {},
   "source": [
    "### Codesignal"
   ]
  },
  {
   "cell_type": "code",
   "execution_count": null,
   "metadata": {},
   "outputs": [],
   "source": [
    "a = \"abcdef\"\n",
    "b = \"abcde\"\n",
    "def rearrange(a):\n",
    "    mid = len(a) // 2\n",
    "    first = a[:mid+1]\n",
    "    second = a[mid+1:]\n",
    "    res = \"\"\n",
    "    flag = True\n",
    "    while first and second:\n",
    "        if flag == True:\n",
    "            res += first[0]\n",
    "            first = first[1:]\n",
    "            flag = False\n",
    "        else:\n",
    "            res += second[-1]\n",
    "            second = second[:-1]\n",
    "            flag = True\n",
    "    if first:\n",
    "        res += first\n",
    "    if second:\n",
    "        res += second\n",
    "    return res\n",
    "rearrange(b)\n"
   ]
  },
  {
   "cell_type": "code",
   "execution_count": null,
   "metadata": {},
   "outputs": [],
   "source": [
    "from curses.ascii import isalpha\n",
    "ord(\"A\")\n",
    "chr(65)\n",
    "s = \"Cod, eSi gnz, al\"\n",
    "output = \"DofezTihpam\"\n",
    "def reorgnize(s):\n",
    "    l = [\"a\", \"e\",  \"i\",  \"o\",  \"u\", \"A\", \"E\", \"I\", \"O\", \"U\"]\n",
    "    for i in range(len(s)):\n",
    "        if s[i] in l or not isalpha(s[i]):\n",
    "            continue\n",
    "        else:\n",
    "            if s[i] == \"z\":\n",
    "                s = s[:i] + \"b\" + s[i+1:]\n",
    "            elif s[i] == \"Z\":\n",
    "                s = s[:i] + \"B\" + s[i+1:]\n",
    "            else:\n",
    "                number = ord(s[i])\n",
    "                if chr(number+1) in l:\n",
    "                    number += 1\n",
    "                s = s[:i] + chr(number+1) + s[i+1:]\n",
    "                \n",
    "    return s\n",
    "reorgnize(s)"
   ]
  },
  {
   "cell_type": "code",
   "execution_count": null,
   "metadata": {},
   "outputs": [],
   "source": [
    "\n",
    "words1 = [\"back\", \"backdoor\", \"gammon\", \"backgammon\", \"comeback\", \"come\", \"door\"]\n",
    "words2 = [\"cba\", \"a\", \"a\", \"b\", \"ba\", \"ca\"]\n",
    "def solution(words):\n",
    "    d = {}\n",
    "    res = 0\n",
    "    for i in range(len(words)):\n",
    "        cur = words[i]\n",
    "        if not d:\n",
    "            d[cur] = 1\n",
    "        else:\n",
    "            for x in d:\n",
    "                if cur == x:\n",
    "                    res += d[x]\n",
    "                elif x in cur:\n",
    "                    tmp = cur\n",
    "                    tmp2 = x\n",
    "                    while tmp2 and tmp:\n",
    "                        if tmp2[-1] != tmp[-1]:\n",
    "                            break\n",
    "                        tmp2 = tmp2[:-1]\n",
    "                        tmp = tmp[:-1]\n",
    "                        if not tmp2 and tmp:\n",
    "                            res += d[x]\n",
    "                elif cur in x:\n",
    "                    tmp = cur\n",
    "                    tmp2 = x\n",
    "                    while tmp and tmp2:\n",
    "                        if tmp2[-1] != tmp[-1]:\n",
    "                            break\n",
    "                        tmp2 = tmp2[:-1]\n",
    "                        tmp = tmp[:-1]\n",
    "                        if not tmp and tmp2:\n",
    "                            res += d[x]\n",
    "            if cur not in d:\n",
    "                d[cur] = 1\n",
    "            else:\n",
    "                d[cur] += 1\n",
    "            #print(d)\n",
    "            #print(res)\n",
    "    return res\n",
    "print(solution(words2))"
   ]
  },
  {
   "cell_type": "markdown",
   "metadata": {},
   "source": [
    "### 4246 homework"
   ]
  },
  {
   "cell_type": "code",
   "execution_count": 6,
   "metadata": {},
   "outputs": [
    {
     "data": {
      "text/plain": [
       "16"
      ]
     },
     "execution_count": 6,
     "metadata": {},
     "output_type": "execute_result"
    }
   ],
   "source": [
    "s = \"itwasthebesttimes\"\n",
    "dict_ = [ 'it', 'was', 'the', 'best', 'of', 'times' ]\n",
    "def valid_words(s):\n",
    "    V = [ False for i in s ]\n",
    "    w = []\n",
    "    # We use 0-based index for convenience\n",
    "    for i in range(len(s)):\n",
    "        for j in range(i - 1, -1, -1):\n",
    "            if ''.join(s[j:i+1]) in dict_ and (j == 0 or V[j-1]):\n",
    "                V[i] = True\n",
    "                w.append(''.join(s[j:i+1]))\n",
    "                break\n",
    "\n",
    "    return (True, w) if V[len(s) - 1] else (False, None)\n",
    "valid_words(s)"
   ]
  },
  {
   "cell_type": "markdown",
   "metadata": {},
   "source": [
    "### 5701 homework"
   ]
  },
  {
   "cell_type": "code",
   "execution_count": 10,
   "metadata": {},
   "outputs": [
    {
     "data": {
      "image/png": "[encoded data removed]",
      "text/plain": [
       "<Figure size 432x288 with 1 Axes>"
      ]
     },
     "metadata": {
      "needs_background": "light"
     },
     "output_type": "display_data"
    },
    {
     "data": {
      "image/png": "[encoded data removed]",
      "text/plain": [
       "<Figure size 432x288 with 1 Axes>"
      ]
     },
     "metadata": {
      "needs_background": "light"
     },
     "output_type": "display_data"
    },
    {
     "data": {
      "image/png": "[encoded data removed]",
      "text/plain": [
       "<Figure size 432x288 with 1 Axes>"
      ]
     },
     "metadata": {
      "needs_background": "light"
     },
     "output_type": "display_data"
    },
    {
     "data": {
      "image/png": "[encoded data removed]",
      "text/plain": [
       "<Figure size 432x288 with 1 Axes>"
      ]
     },
     "metadata": {
      "needs_background": "light"
     },
     "output_type": "display_data"
    },
    {
     "data": {
      "image/png": "[encoded data removed]",
      "text/plain": [
       "<Figure size 432x288 with 1 Axes>"
      ]
     },
     "metadata": {
      "needs_background": "light"
     },
     "output_type": "display_data"
    }
   ],
   "source": [
    "\n",
    "import random\n",
    "import matplotlib.pyplot as plt\n",
    "x = [0, 0.1, 0.2, 0.3, 0.4, 0.5, 0.6, 0.7, 0.8, 0.9, 1]\n",
    "def kelly_criterion(p, b, N):\n",
    "    w0 = 25\n",
    "    res = []\n",
    "    for ratio in x:\n",
    "        for i in range(N):\n",
    "            if w0 < 0:\n",
    "                break \n",
    "            r = random.uniform(0, 1)\n",
    "            if r < p:\n",
    "                w0 = w0 + b*(ratio*w0)\n",
    "            else:\n",
    "                w0 -= (ratio*w0)\n",
    "        res.append(w0)\n",
    "        w0 = 25\n",
    "    return res\n",
    "\n",
    "for i in range(5):\n",
    "    output = kelly_criterion(0.6, 1, 300)\n",
    "    plt.plot(x, output)\n",
    "    plt.xlabel(\"bet ratio\")\n",
    "    plt.ylabel(\"W\")\n",
    "    plt.show()\n"
   ]
  }
 ],
 "metadata": {
  "kernelspec": {
   "display_name": "Python 3.9.12 ('base')",
   "language": "python",
   "name": "python3"
  },
  "language_info": {
   "codemirror_mode": {
    "name": "ipython",
    "version": 3
   },
   "file_extension": ".py",
   "mimetype": "text/x-python",
   "name": "python",
   "nbconvert_exporter": "python",
   "pygments_lexer": "ipython3",
   "version": "3.9.12"
  },
  "orig_nbformat": 4,
  "vscode": {
   "interpreter": {
    "hash": "40d3a090f54c6569ab1632332b64b2c03c39dcf918b08424e98f38b5ae0af88f"
   }
  }
 },
 "nbformat": 4,
 "nbformat_minor": 2
}
